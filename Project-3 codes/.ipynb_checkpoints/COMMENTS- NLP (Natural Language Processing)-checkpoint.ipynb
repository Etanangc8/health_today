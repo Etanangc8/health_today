{
 "cells": [
  {
   "cell_type": "markdown",
   "metadata": {},
   "source": [
    "# MODIFYYY COOOOODDDE!!!!!!!!!"
   ]
  },
  {
   "cell_type": "markdown",
   "metadata": {},
   "source": [
    "<h1><center>Comments: Food vs. Exercise NLP</center></h1>"
   ]
  },
  {
   "cell_type": "code",
   "execution_count": 52,
   "metadata": {
    "collapsed": true
   },
   "outputs": [
    {
     "name": "stdout",
     "output_type": "stream",
     "text": [
      "Collecting regex\n",
      "\u001b[?25l  Downloading https://files.pythonhosted.org/packages/4c/e7/eee73c42c1193fecc0e91361a163cbb8dfbea62c3db7618ad986e5b43a14/regex-2020.4.4.tar.gz (695kB)\n",
      "\u001b[K     |████████████████████████████████| 696kB 3.0MB/s eta 0:00:01\n",
      "\u001b[?25hBuilding wheels for collected packages: regex\n",
      "  Building wheel for regex (setup.py) ... \u001b[?25ldone\n",
      "\u001b[?25h  Created wheel for regex: filename=regex-2020.4.4-cp37-cp37m-macosx_10_9_x86_64.whl size=286723 sha256=e3f6a4587adb7b8ca3048ff4e4fbe3e9d96bf313d1cf08bfd99d935d858b4dca\n",
      "  Stored in directory: /Users/EderlynT/Library/Caches/pip/wheels/e6/9b/ae/2972da29cc7759b71dee015813b7c6931917d6a51e64ed5e79\n",
      "Successfully built regex\n",
      "Installing collected packages: regex\n",
      "Successfully installed regex-2020.4.4\n"
     ]
    }
   ],
   "source": [
    "#!pip install regex"
   ]
  },
  {
   "cell_type": "code",
   "execution_count": 1,
   "metadata": {},
   "outputs": [],
   "source": [
    "#Import libraries\n",
    "import nltk\n",
    "from nltk.stem import WordNetLemmatizer\n",
    "lemmatizer = WordNetLemmatizer()\n",
    "import pandas as pd\n",
    "import numpy as np"
   ]
  },
  {
   "cell_type": "code",
   "execution_count": 2,
   "metadata": {},
   "outputs": [
    {
     "data": {
      "text/html": [
       "<div>\n",
       "<style scoped>\n",
       "    .dataframe tbody tr th:only-of-type {\n",
       "        vertical-align: middle;\n",
       "    }\n",
       "\n",
       "    .dataframe tbody tr th {\n",
       "        vertical-align: top;\n",
       "    }\n",
       "\n",
       "    .dataframe thead th {\n",
       "        text-align: right;\n",
       "    }\n",
       "</style>\n",
       "<table border=\"1\" class=\"dataframe\">\n",
       "  <thead>\n",
       "    <tr style=\"text-align: right;\">\n",
       "      <th></th>\n",
       "      <th>Unnamed: 0</th>\n",
       "      <th>body</th>\n",
       "      <th>subreddit</th>\n",
       "    </tr>\n",
       "  </thead>\n",
       "  <tbody>\n",
       "    <tr>\n",
       "      <th>0</th>\n",
       "      <td>0</td>\n",
       "      <td>They look delicious but where are the dinosaur...</td>\n",
       "      <td>1</td>\n",
       "    </tr>\n",
       "    <tr>\n",
       "      <th>1</th>\n",
       "      <td>1</td>\n",
       "      <td>It looks like a pair of lungs</td>\n",
       "      <td>1</td>\n",
       "    </tr>\n",
       "    <tr>\n",
       "      <th>2</th>\n",
       "      <td>2</td>\n",
       "      <td>Looks great, i always request this from my mom...</td>\n",
       "      <td>1</td>\n",
       "    </tr>\n",
       "    <tr>\n",
       "      <th>3</th>\n",
       "      <td>3</td>\n",
       "      <td>I'm hungry, but that's almost too beautiful to...</td>\n",
       "      <td>1</td>\n",
       "    </tr>\n",
       "    <tr>\n",
       "      <th>4</th>\n",
       "      <td>4</td>\n",
       "      <td>Looks\\nGood how it taste ?</td>\n",
       "      <td>1</td>\n",
       "    </tr>\n",
       "  </tbody>\n",
       "</table>\n",
       "</div>"
      ],
      "text/plain": [
       "   Unnamed: 0                                               body  subreddit\n",
       "0           0  They look delicious but where are the dinosaur...          1\n",
       "1           1                      It looks like a pair of lungs          1\n",
       "2           2  Looks great, i always request this from my mom...          1\n",
       "3           3  I'm hungry, but that's almost too beautiful to...          1\n",
       "4           4                         Looks\\nGood how it taste ?          1"
      ]
     },
     "execution_count": 2,
     "metadata": {},
     "output_type": "execute_result"
    }
   ],
   "source": [
    "df_com = pd.read_csv('../datasets/clean-food_and_exer-comments.csv')\n",
    "df_com.head()"
   ]
  },
  {
   "cell_type": "code",
   "execution_count": 3,
   "metadata": {},
   "outputs": [],
   "source": [
    "df_com.drop(columns=['Unnamed: 0'], inplace=True)\n",
    "#I had to re-drop the 'Unnamed: 0' again. I tried to put an \n",
    "#'inplace=True' in the cleaning notebook but it did not work"
   ]
  },
  {
   "cell_type": "code",
   "execution_count": 4,
   "metadata": {},
   "outputs": [
    {
     "name": "stdout",
     "output_type": "stream",
     "text": [
      "                                                body  subreddit\n",
      "0  They look delicious but where are the dinosaur...          1\n",
      "1                      It looks like a pair of lungs          1\n",
      "                                                    body  subreddit\n",
      "22863  Exactly my man. Way too many people give up be...          0\n",
      "22864                         No offence taken my friend          0\n"
     ]
    }
   ],
   "source": [
    "print(df_com.head(2))\n",
    "print(df_com.tail(2))"
   ]
  },
  {
   "cell_type": "markdown",
   "metadata": {},
   "source": [
    "## Tokenizing "
   ]
  },
  {
   "cell_type": "code",
   "execution_count": 156,
   "metadata": {},
   "outputs": [],
   "source": [
    "#Tokenizer library\n",
    "from nltk.tokenize import RegexpTokenizer"
   ]
  },
  {
   "cell_type": "code",
   "execution_count": 170,
   "metadata": {},
   "outputs": [],
   "source": [
    "# tokenizer = RegexpTokenizer(r'\\w+')"
   ]
  },
  {
   "cell_type": "code",
   "execution_count": 77,
   "metadata": {},
   "outputs": [],
   "source": [
    "df_comm_tokens = df_comm['body'].apply(lambda i: tokenizer.tokenize(i.lower()))\n",
    "#adapted from Medium blog: https://towardsdatascience.com/nlp-for-beginners-cleaning-preprocessing-text-data-ae8e306bef0f\n",
    "#this essentially removed unwanted punctuation\n",
    "#turned the column into a series\n",
    "#.lower to make everything lowercase"
   ]
  },
  {
   "cell_type": "markdown",
   "metadata": {},
   "source": [
    "## RegEx"
   ]
  },
  {
   "cell_type": "code",
   "execution_count": 8,
   "metadata": {},
   "outputs": [],
   "source": [
    "import regex as re"
   ]
  },
  {
   "cell_type": "markdown",
   "metadata": {},
   "source": [
    "## Lemmatizing & Stemming"
   ]
  },
  {
   "cell_type": "code",
   "execution_count": 172,
   "metadata": {},
   "outputs": [],
   "source": [
    "from nltk.stem import WordNetLemmatizer\n",
    "from nltk.stem.porter import PorterStemmer\n"
   ]
  },
  {
   "cell_type": "code",
   "execution_count": 173,
   "metadata": {},
   "outputs": [],
   "source": [
    "lemmatizer = WordNetLemmatizer()\n",
    "#Instantiate lemmatizer"
   ]
  },
  {
   "cell_type": "code",
   "execution_count": 85,
   "metadata": {},
   "outputs": [],
   "source": [
    "# def word_lemma(body):\n",
    "#     body_lem = [lemmatizer.lemmatize(i) for i in df_comm['body']]\n",
    "#     return(body_lem)"
   ]
  },
  {
   "cell_type": "code",
   "execution_count": null,
   "metadata": {},
   "outputs": [],
   "source": []
  },
  {
   "cell_type": "markdown",
   "metadata": {},
   "source": [
    "## Sorting Comments"
   ]
  },
  {
   "cell_type": "code",
   "execution_count": 11,
   "metadata": {},
   "outputs": [],
   "source": [
    "# Import sklearn library to train_test_split\n",
    "from sklearn.model_selection import train_test_split\n",
    "#Imported BeautifulSoup to scrape the comments\n",
    "from bs4 import BeautifulSoup \n",
    "from nltk.corpus import stopwords"
   ]
  },
  {
   "cell_type": "code",
   "execution_count": 12,
   "metadata": {},
   "outputs": [],
   "source": [
    "# train_test_split on commments data\n",
    "X_train, X_test, y_train, y_test = train_test_split(df_com['body'],\n",
    "                                                    df_com['subreddit'],\n",
    "                                                    test_size = 0.25,\n",
    "                                                    random_state = 42)"
   ]
  },
  {
   "cell_type": "code",
   "execution_count": 13,
   "metadata": {},
   "outputs": [
    {
     "name": "stdout",
     "output_type": "stream",
     "text": [
      "['i', 'me', 'my', 'myself', 'we', 'our', 'ours', 'ourselves', 'you', \"you're\", \"you've\", \"you'll\", \"you'd\", 'your', 'yours', 'yourself', 'yourselves', 'he', 'him', 'his', 'himself', 'she', \"she's\", 'her', 'hers', 'herself', 'it', \"it's\", 'its', 'itself', 'they', 'them', 'their', 'theirs', 'themselves', 'what', 'which', 'who', 'whom', 'this', 'that', \"that'll\", 'these', 'those', 'am', 'is', 'are', 'was', 'were', 'be', 'been', 'being', 'have', 'has', 'had', 'having', 'do', 'does', 'did', 'doing', 'a', 'an', 'the', 'and', 'but', 'if', 'or', 'because', 'as', 'until', 'while', 'of', 'at', 'by', 'for', 'with', 'about', 'against', 'between', 'into', 'through', 'during', 'before', 'after', 'above', 'below', 'to', 'from', 'up', 'down', 'in', 'out', 'on', 'off', 'over', 'under', 'again', 'further', 'then', 'once', 'here', 'there', 'when', 'where', 'why', 'how', 'all', 'any', 'both', 'each', 'few', 'more', 'most', 'other', 'some', 'such', 'no', 'nor', 'not', 'only', 'own', 'same', 'so', 'than', 'too', 'very', 's', 't', 'can', 'will', 'just', 'don', \"don't\", 'should', \"should've\", 'now', 'd', 'll', 'm', 'o', 're', 've', 'y', 'ain', 'aren', \"aren't\", 'couldn', \"couldn't\", 'didn', \"didn't\", 'doesn', \"doesn't\", 'hadn', \"hadn't\", 'hasn', \"hasn't\", 'haven', \"haven't\", 'isn', \"isn't\", 'ma', 'mightn', \"mightn't\", 'mustn', \"mustn't\", 'needn', \"needn't\", 'shan', \"shan't\", 'shouldn', \"shouldn't\", 'wasn', \"wasn't\", 'weren', \"weren't\", 'won', \"won't\", 'wouldn', \"wouldn't\"]\n"
     ]
    }
   ],
   "source": [
    "stop_words = stopwords.words('english')\n",
    "print(stopwords.words('english'))"
   ]
  },
  {
   "cell_type": "code",
   "execution_count": 14,
   "metadata": {},
   "outputs": [],
   "source": [
    "def status_words(status):\n",
    "    '''takes a series and cleans the text data '''\n",
    "    review_text = BeautifulSoup(status).get_text()\n",
    "    # Removed HTLM\n",
    "    letters_only = re.sub('[^a-zA-Z]', ' ', review_text)\n",
    "    # Removed Non Letter\n",
    "    words = letters_only.lower().split()\n",
    "    # Tokenize without official tokenizer\n",
    "    #stops = set(stopwords.words('english'))\n",
    "    stops = set(stop_words)\n",
    "    # Stopwords are removed\n",
    "    meaningful_words = [lemmatizer.lemmatize(w) for w in words if w not in stops]\n",
    "#    \n",
    "    return(' '.join(meaningful_words))\n",
    "\n",
    "#Assistance from Jobeth, code adapted from Matt Baum's notes "
   ]
  },
  {
   "cell_type": "code",
   "execution_count": 15,
   "metadata": {},
   "outputs": [
    {
     "name": "stderr",
     "output_type": "stream",
     "text": [
      "/Users/EderlynT/opt/anaconda3/envs/dsi/lib/python3.7/site-packages/bs4/__init__.py:389: UserWarning: \"https://yummiestfood.com/chocolate-chip-cookie-dough-cheesecake-recipe/\" looks like a URL. Beautiful Soup is not an HTTP client. You should probably use an HTTP client like requests to get the document behind the URL, and feed that document to Beautiful Soup.\n",
      "  ' that document to Beautiful Soup.' % decoded_markup\n",
      "/Users/EderlynT/opt/anaconda3/envs/dsi/lib/python3.7/site-packages/bs4/__init__.py:314: UserWarning: \"b'.'\" looks like a filename, not markup. You should probably open this file and pass the filehandle into Beautiful Soup.\n",
      "  ' Beautiful Soup.' % markup)\n",
      "/Users/EderlynT/opt/anaconda3/envs/dsi/lib/python3.7/site-packages/bs4/__init__.py:389: UserWarning: \"https://cafedelites.com/simple-chicken-teriyaki-stir-fry/\" looks like a URL. Beautiful Soup is not an HTTP client. You should probably use an HTTP client like requests to get the document behind the URL, and feed that document to Beautiful Soup.\n",
      "  ' that document to Beautiful Soup.' % decoded_markup\n",
      "/Users/EderlynT/opt/anaconda3/envs/dsi/lib/python3.7/site-packages/bs4/__init__.py:389: UserWarning: \"https://www.allrecipes.com/recipe/154920/homemade-manti-traditional-turkish-dumplings/\" looks like a URL. Beautiful Soup is not an HTTP client. You should probably use an HTTP client like requests to get the document behind the URL, and feed that document to Beautiful Soup.\n",
      "  ' that document to Beautiful Soup.' % decoded_markup\n",
      "/Users/EderlynT/opt/anaconda3/envs/dsi/lib/python3.7/site-packages/bs4/__init__.py:389: UserWarning: \"https://youtu.be/Cv6tuzHUuuk\" looks like a URL. Beautiful Soup is not an HTTP client. You should probably use an HTTP client like requests to get the document behind the URL, and feed that document to Beautiful Soup.\n",
      "  ' that document to Beautiful Soup.' % decoded_markup\n",
      "/Users/EderlynT/opt/anaconda3/envs/dsi/lib/python3.7/site-packages/bs4/__init__.py:389: UserWarning: \"https://www.bhg.com/recipe/blueberry-cream-cheese-pastries/\" looks like a URL. Beautiful Soup is not an HTTP client. You should probably use an HTTP client like requests to get the document behind the URL, and feed that document to Beautiful Soup.\n",
      "  ' that document to Beautiful Soup.' % decoded_markup\n",
      "/Users/EderlynT/opt/anaconda3/envs/dsi/lib/python3.7/site-packages/bs4/__init__.py:389: UserWarning: \"https://imgur.com/gallery/56O79hR\" looks like a URL. Beautiful Soup is not an HTTP client. You should probably use an HTTP client like requests to get the document behind the URL, and feed that document to Beautiful Soup.\n",
      "  ' that document to Beautiful Soup.' % decoded_markup\n",
      "/Users/EderlynT/opt/anaconda3/envs/dsi/lib/python3.7/site-packages/bs4/__init__.py:389: UserWarning: \"https://imgur.com/gallery/oeLeRj7\" looks like a URL. Beautiful Soup is not an HTTP client. You should probably use an HTTP client like requests to get the document behind the URL, and feed that document to Beautiful Soup.\n",
      "  ' that document to Beautiful Soup.' % decoded_markup\n",
      "/Users/EderlynT/opt/anaconda3/envs/dsi/lib/python3.7/site-packages/bs4/__init__.py:389: UserWarning: \"https://www.smithfieldfoods.com/about-smithfield\" looks like a URL. Beautiful Soup is not an HTTP client. You should probably use an HTTP client like requests to get the document behind the URL, and feed that document to Beautiful Soup.\n",
      "  ' that document to Beautiful Soup.' % decoded_markup\n",
      "/Users/EderlynT/opt/anaconda3/envs/dsi/lib/python3.7/site-packages/bs4/__init__.py:389: UserWarning: \"https://tenor.com/XHEf.gif\" looks like a URL. Beautiful Soup is not an HTTP client. You should probably use an HTTP client like requests to get the document behind the URL, and feed that document to Beautiful Soup.\n",
      "  ' that document to Beautiful Soup.' % decoded_markup\n",
      "/Users/EderlynT/opt/anaconda3/envs/dsi/lib/python3.7/site-packages/bs4/__init__.py:389: UserWarning: \"https://www.eatingbirdfood.com/peanut-butter-cups/\" looks like a URL. Beautiful Soup is not an HTTP client. You should probably use an HTTP client like requests to get the document behind the URL, and feed that document to Beautiful Soup.\n",
      "  ' that document to Beautiful Soup.' % decoded_markup\n",
      "/Users/EderlynT/opt/anaconda3/envs/dsi/lib/python3.7/site-packages/bs4/__init__.py:389: UserWarning: \"https://www.simplytrinicooking.com/doubles/\" looks like a URL. Beautiful Soup is not an HTTP client. You should probably use an HTTP client like requests to get the document behind the URL, and feed that document to Beautiful Soup.\n",
      "  ' that document to Beautiful Soup.' % decoded_markup\n",
      "/Users/EderlynT/opt/anaconda3/envs/dsi/lib/python3.7/site-packages/bs4/__init__.py:389: UserWarning: \"https://i.imgur.com/vkdFPJW.jpeg\" looks like a URL. Beautiful Soup is not an HTTP client. You should probably use an HTTP client like requests to get the document behind the URL, and feed that document to Beautiful Soup.\n",
      "  ' that document to Beautiful Soup.' % decoded_markup\n",
      "/Users/EderlynT/opt/anaconda3/envs/dsi/lib/python3.7/site-packages/bs4/__init__.py:389: UserWarning: \"https://youtu.be/m5MsWhGxz9Y\" looks like a URL. Beautiful Soup is not an HTTP client. You should probably use an HTTP client like requests to get the document behind the URL, and feed that document to Beautiful Soup.\n",
      "  ' that document to Beautiful Soup.' % decoded_markup\n",
      "/Users/EderlynT/opt/anaconda3/envs/dsi/lib/python3.7/site-packages/bs4/__init__.py:389: UserWarning: \"https://www.gimmesomeoven.com/honey-beer-bread/\" looks like a URL. Beautiful Soup is not an HTTP client. You should probably use an HTTP client like requests to get the document behind the URL, and feed that document to Beautiful Soup.\n",
      "  ' that document to Beautiful Soup.' % decoded_markup\n",
      "/Users/EderlynT/opt/anaconda3/envs/dsi/lib/python3.7/site-packages/bs4/__init__.py:389: UserWarning: \"https://www.tastesoflizzyt.com/homemade-cinnamon-rolls/\" looks like a URL. Beautiful Soup is not an HTTP client. You should probably use an HTTP client like requests to get the document behind the URL, and feed that document to Beautiful Soup.\n",
      "  ' that document to Beautiful Soup.' % decoded_markup\n",
      "/Users/EderlynT/opt/anaconda3/envs/dsi/lib/python3.7/site-packages/bs4/__init__.py:389: UserWarning: \"https://www.runnersworld.com/health-injuries/g20835764/5-reasons-that-running-can-make-you-puke/\" looks like a URL. Beautiful Soup is not an HTTP client. You should probably use an HTTP client like requests to get the document behind the URL, and feed that document to Beautiful Soup.\n",
      "  ' that document to Beautiful Soup.' % decoded_markup\n",
      "/Users/EderlynT/opt/anaconda3/envs/dsi/lib/python3.7/site-packages/bs4/__init__.py:389: UserWarning: \"https://www.youtube.com/channel/UCUHAxWj5sI2H60XrEH1PrZg\" looks like a URL. Beautiful Soup is not an HTTP client. You should probably use an HTTP client like requests to get the document behind the URL, and feed that document to Beautiful Soup.\n",
      "  ' that document to Beautiful Soup.' % decoded_markup\n",
      "/Users/EderlynT/opt/anaconda3/envs/dsi/lib/python3.7/site-packages/bs4/__init__.py:389: UserWarning: \"https://www.youtube.com/user/AsiaMeriah7\" looks like a URL. Beautiful Soup is not an HTTP client. You should probably use an HTTP client like requests to get the document behind the URL, and feed that document to Beautiful Soup.\n",
      "  ' that document to Beautiful Soup.' % decoded_markup\n",
      "/Users/EderlynT/opt/anaconda3/envs/dsi/lib/python3.7/site-packages/bs4/__init__.py:389: UserWarning: \"https://youtu.be/wHlvKQwZFSI\" looks like a URL. Beautiful Soup is not an HTTP client. You should probably use an HTTP client like requests to get the document behind the URL, and feed that document to Beautiful Soup.\n",
      "  ' that document to Beautiful Soup.' % decoded_markup\n",
      "/Users/EderlynT/opt/anaconda3/envs/dsi/lib/python3.7/site-packages/bs4/__init__.py:389: UserWarning: \"http://www.pullup-dip.com/?sPartner=leedowning\" looks like a URL. Beautiful Soup is not an HTTP client. You should probably use an HTTP client like requests to get the document behind the URL, and feed that document to Beautiful Soup.\n",
      "  ' that document to Beautiful Soup.' % decoded_markup\n",
      "/Users/EderlynT/opt/anaconda3/envs/dsi/lib/python3.7/site-packages/bs4/__init__.py:389: UserWarning: \"https://youtu.be/sjNg7js5wr4\" looks like a URL. Beautiful Soup is not an HTTP client. You should probably use an HTTP client like requests to get the document behind the URL, and feed that document to Beautiful Soup.\n",
      "  ' that document to Beautiful Soup.' % decoded_markup\n",
      "/Users/EderlynT/opt/anaconda3/envs/dsi/lib/python3.7/site-packages/bs4/__init__.py:389: UserWarning: \"https://www.lifeline.ca/en/resources/14-exercises-for-seniors-to-improve-strength-and-balance/\" looks like a URL. Beautiful Soup is not an HTTP client. You should probably use an HTTP client like requests to get the document behind the URL, and feed that document to Beautiful Soup.\n",
      "  ' that document to Beautiful Soup.' % decoded_markup\n"
     ]
    },
    {
     "name": "stderr",
     "output_type": "stream",
     "text": [
      "/Users/EderlynT/opt/anaconda3/envs/dsi/lib/python3.7/site-packages/bs4/__init__.py:389: UserWarning: \"https://www.reddit.com/r/Exercise/comments/fbdeq8/proof_of_the_time_this_photo_was_taken_the_snap/?utm_medium=android_app&amp;utm_source=share\" looks like a URL. Beautiful Soup is not an HTTP client. You should probably use an HTTP client like requests to get the document behind the URL, and feed that document to Beautiful Soup.\n",
      "  ' that document to Beautiful Soup.' % decoded_markup\n",
      "/Users/EderlynT/opt/anaconda3/envs/dsi/lib/python3.7/site-packages/bs4/__init__.py:389: UserWarning: \"https://thefitness.wiki/routines/\" looks like a URL. Beautiful Soup is not an HTTP client. You should probably use an HTTP client like requests to get the document behind the URL, and feed that document to Beautiful Soup.\n",
      "  ' that document to Beautiful Soup.' % decoded_markup\n",
      "/Users/EderlynT/opt/anaconda3/envs/dsi/lib/python3.7/site-packages/bs4/__init__.py:389: UserWarning: \"https://www.outsideonline.com/2408467/case-against-stretching-flexibility-research\" looks like a URL. Beautiful Soup is not an HTTP client. You should probably use an HTTP client like requests to get the document behind the URL, and feed that document to Beautiful Soup.\n",
      "  ' that document to Beautiful Soup.' % decoded_markup\n",
      "/Users/EderlynT/opt/anaconda3/envs/dsi/lib/python3.7/site-packages/bs4/__init__.py:389: UserWarning: \"https://www.health.com/fitness/7-workout-habits-you-should-drop-now-2\" looks like a URL. Beautiful Soup is not an HTTP client. You should probably use an HTTP client like requests to get the document behind the URL, and feed that document to Beautiful Soup.\n",
      "  ' that document to Beautiful Soup.' % decoded_markup\n",
      "/Users/EderlynT/opt/anaconda3/envs/dsi/lib/python3.7/site-packages/bs4/__init__.py:389: UserWarning: \"https://www.ncbi.nlm.nih.gov/m/pubmed/12580652/\" looks like a URL. Beautiful Soup is not an HTTP client. You should probably use an HTTP client like requests to get the document behind the URL, and feed that document to Beautiful Soup.\n",
      "  ' that document to Beautiful Soup.' % decoded_markup\n",
      "/Users/EderlynT/opt/anaconda3/envs/dsi/lib/python3.7/site-packages/bs4/__init__.py:389: UserWarning: \"https://darebee.com/workouts/beginner-abs-workout.html\" looks like a URL. Beautiful Soup is not an HTTP client. You should probably use an HTTP client like requests to get the document behind the URL, and feed that document to Beautiful Soup.\n",
      "  ' that document to Beautiful Soup.' % decoded_markup\n",
      "/Users/EderlynT/opt/anaconda3/envs/dsi/lib/python3.7/site-packages/bs4/__init__.py:314: UserWarning: \"b'..'\" looks like a filename, not markup. You should probably open this file and pass the filehandle into Beautiful Soup.\n",
      "  ' Beautiful Soup.' % markup)\n",
      "/Users/EderlynT/opt/anaconda3/envs/dsi/lib/python3.7/site-packages/bs4/__init__.py:389: UserWarning: \"https://www.aworkoutroutine.com/muscle-tone/\" looks like a URL. Beautiful Soup is not an HTTP client. You should probably use an HTTP client like requests to get the document behind the URL, and feed that document to Beautiful Soup.\n",
      "  ' that document to Beautiful Soup.' % decoded_markup\n",
      "/Users/EderlynT/opt/anaconda3/envs/dsi/lib/python3.7/site-packages/bs4/__init__.py:389: UserWarning: \"https://www.google.com/amp/s/www.today.com/today/amp/tdna102943\" looks like a URL. Beautiful Soup is not an HTTP client. You should probably use an HTTP client like requests to get the document behind the URL, and feed that document to Beautiful Soup.\n",
      "  ' that document to Beautiful Soup.' % decoded_markup\n",
      "/Users/EderlynT/opt/anaconda3/envs/dsi/lib/python3.7/site-packages/bs4/__init__.py:389: UserWarning: \"https://media1.giphy.com/media/qLWdMYX1NYF2g/giphy.gif\n",
      "\n",
      "OPM\" looks like a URL. Beautiful Soup is not an HTTP client. You should probably use an HTTP client like requests to get the document behind the URL, and feed that document to Beautiful Soup.\n",
      "  ' that document to Beautiful Soup.' % decoded_markup\n",
      "/Users/EderlynT/opt/anaconda3/envs/dsi/lib/python3.7/site-packages/bs4/__init__.py:389: UserWarning: \"https://youtu.be/2rvKbK-RVbc\" looks like a URL. Beautiful Soup is not an HTTP client. You should probably use an HTTP client like requests to get the document behind the URL, and feed that document to Beautiful Soup.\n",
      "  ' that document to Beautiful Soup.' % decoded_markup\n",
      "/Users/EderlynT/opt/anaconda3/envs/dsi/lib/python3.7/site-packages/bs4/__init__.py:389: UserWarning: \"https://youtu.be/zzBUkdP0iDw\" looks like a URL. Beautiful Soup is not an HTTP client. You should probably use an HTTP client like requests to get the document behind the URL, and feed that document to Beautiful Soup.\n",
      "  ' that document to Beautiful Soup.' % decoded_markup\n",
      "/Users/EderlynT/opt/anaconda3/envs/dsi/lib/python3.7/site-packages/bs4/__init__.py:389: UserWarning: \"https://youtu.be/knu1ccCJ_2Q\" looks like a URL. Beautiful Soup is not an HTTP client. You should probably use an HTTP client like requests to get the document behind the URL, and feed that document to Beautiful Soup.\n",
      "  ' that document to Beautiful Soup.' % decoded_markup\n",
      "/Users/EderlynT/opt/anaconda3/envs/dsi/lib/python3.7/site-packages/bs4/__init__.py:389: UserWarning: \"https://www.google.com/amp/s/breakingmuscle.com/amp/learn/spot-reduction-one-final-attempt-to-kill-the-myth\n",
      "\n",
      "\n",
      "https://www.menshealth.com/health/a27679298/fat-loss-tips/\n",
      "\n",
      "\n",
      "https://www.verywellfit.com/myth-of-spot-reduction-1230974\" looks like a URL. Beautiful Soup is not an HTTP client. You should probably use an HTTP client like requests to get the document behind the URL, and feed that document to Beautiful Soup.\n",
      "  ' that document to Beautiful Soup.' % decoded_markup\n",
      "/Users/EderlynT/opt/anaconda3/envs/dsi/lib/python3.7/site-packages/bs4/__init__.py:389: UserWarning: \"https://youtu.be/HOxFUrIe1SY\" looks like a URL. Beautiful Soup is not an HTTP client. You should probably use an HTTP client like requests to get the document behind the URL, and feed that document to Beautiful Soup.\n",
      "  ' that document to Beautiful Soup.' % decoded_markup\n",
      "/Users/EderlynT/opt/anaconda3/envs/dsi/lib/python3.7/site-packages/bs4/__init__.py:389: UserWarning: \"https://www.bodybuilding.com/fun/matt20.htm\" looks like a URL. Beautiful Soup is not an HTTP client. You should probably use an HTTP client like requests to get the document behind the URL, and feed that document to Beautiful Soup.\n",
      "  ' that document to Beautiful Soup.' % decoded_markup\n"
     ]
    }
   ],
   "source": [
    "df_com['body_clean'] = df_com['body'].map(status_words)"
   ]
  },
  {
   "cell_type": "code",
   "execution_count": 204,
   "metadata": {
    "scrolled": true
   },
   "outputs": [
    {
     "data": {
      "text/html": [
       "<div>\n",
       "<style scoped>\n",
       "    .dataframe tbody tr th:only-of-type {\n",
       "        vertical-align: middle;\n",
       "    }\n",
       "\n",
       "    .dataframe tbody tr th {\n",
       "        vertical-align: top;\n",
       "    }\n",
       "\n",
       "    .dataframe thead th {\n",
       "        text-align: right;\n",
       "    }\n",
       "</style>\n",
       "<table border=\"1\" class=\"dataframe\">\n",
       "  <thead>\n",
       "    <tr style=\"text-align: right;\">\n",
       "      <th></th>\n",
       "      <th>body</th>\n",
       "      <th>subreddit</th>\n",
       "      <th>body_clean</th>\n",
       "    </tr>\n",
       "  </thead>\n",
       "  <tbody>\n",
       "    <tr>\n",
       "      <td>0</td>\n",
       "      <td>They look delicious but where are the dinosaur...</td>\n",
       "      <td>1</td>\n",
       "      <td>look delicious dinosaur shape</td>\n",
       "    </tr>\n",
       "    <tr>\n",
       "      <td>1</td>\n",
       "      <td>It looks like a pair of lungs</td>\n",
       "      <td>1</td>\n",
       "      <td>look like pair lung</td>\n",
       "    </tr>\n",
       "    <tr>\n",
       "      <td>2</td>\n",
       "      <td>Looks great, i always request this from my mom...</td>\n",
       "      <td>1</td>\n",
       "      <td>look great always request mom visit home</td>\n",
       "    </tr>\n",
       "    <tr>\n",
       "      <td>3</td>\n",
       "      <td>I'm hungry, but that's almost too beautiful to...</td>\n",
       "      <td>1</td>\n",
       "      <td>hungry almost beautiful eat</td>\n",
       "    </tr>\n",
       "    <tr>\n",
       "      <td>4</td>\n",
       "      <td>Looks\\nGood how it taste ?</td>\n",
       "      <td>1</td>\n",
       "      <td>look good taste</td>\n",
       "    </tr>\n",
       "  </tbody>\n",
       "</table>\n",
       "</div>"
      ],
      "text/plain": [
       "                                                body  subreddit  \\\n",
       "0  They look delicious but where are the dinosaur...          1   \n",
       "1                      It looks like a pair of lungs          1   \n",
       "2  Looks great, i always request this from my mom...          1   \n",
       "3  I'm hungry, but that's almost too beautiful to...          1   \n",
       "4                         Looks\\nGood how it taste ?          1   \n",
       "\n",
       "                                 body_clean  \n",
       "0             look delicious dinosaur shape  \n",
       "1                       look like pair lung  \n",
       "2  look great always request mom visit home  \n",
       "3               hungry almost beautiful eat  \n",
       "4                           look good taste  "
      ]
     },
     "execution_count": 204,
     "metadata": {},
     "output_type": "execute_result"
    }
   ],
   "source": [
    "df_com.head()"
   ]
  },
  {
   "cell_type": "code",
   "execution_count": 210,
   "metadata": {},
   "outputs": [
    {
     "data": {
      "text/html": [
       "<div>\n",
       "<style scoped>\n",
       "    .dataframe tbody tr th:only-of-type {\n",
       "        vertical-align: middle;\n",
       "    }\n",
       "\n",
       "    .dataframe tbody tr th {\n",
       "        vertical-align: top;\n",
       "    }\n",
       "\n",
       "    .dataframe thead th {\n",
       "        text-align: right;\n",
       "    }\n",
       "</style>\n",
       "<table border=\"1\" class=\"dataframe\">\n",
       "  <thead>\n",
       "    <tr style=\"text-align: right;\">\n",
       "      <th></th>\n",
       "      <th>body</th>\n",
       "      <th>subreddit</th>\n",
       "      <th>body_clean</th>\n",
       "    </tr>\n",
       "  </thead>\n",
       "  <tbody>\n",
       "    <tr>\n",
       "      <td>22860</td>\n",
       "      <td>Yeah sure give me a sec</td>\n",
       "      <td>0</td>\n",
       "      <td>yeah sure give sec</td>\n",
       "    </tr>\n",
       "    <tr>\n",
       "      <td>22861</td>\n",
       "      <td>I’m glad, keep grinding!!</td>\n",
       "      <td>0</td>\n",
       "      <td>glad keep grinding</td>\n",
       "    </tr>\n",
       "    <tr>\n",
       "      <td>22862</td>\n",
       "      <td>I just do both and if anyone asks I say I’m le...</td>\n",
       "      <td>0</td>\n",
       "      <td>anyone asks say leanbulking say word hypertrop...</td>\n",
       "    </tr>\n",
       "    <tr>\n",
       "      <td>22863</td>\n",
       "      <td>Exactly my man. Way too many people give up be...</td>\n",
       "      <td>0</td>\n",
       "      <td>exactly man way many people give see ab right ...</td>\n",
       "    </tr>\n",
       "    <tr>\n",
       "      <td>22864</td>\n",
       "      <td>No offence taken my friend</td>\n",
       "      <td>0</td>\n",
       "      <td>offence taken friend</td>\n",
       "    </tr>\n",
       "  </tbody>\n",
       "</table>\n",
       "</div>"
      ],
      "text/plain": [
       "                                                    body  subreddit  \\\n",
       "22860                            Yeah sure give me a sec          0   \n",
       "22861                          I’m glad, keep grinding!!          0   \n",
       "22862  I just do both and if anyone asks I say I’m le...          0   \n",
       "22863  Exactly my man. Way too many people give up be...          0   \n",
       "22864                         No offence taken my friend          0   \n",
       "\n",
       "                                              body_clean  \n",
       "22860                                 yeah sure give sec  \n",
       "22861                                 glad keep grinding  \n",
       "22862  anyone asks say leanbulking say word hypertrop...  \n",
       "22863  exactly man way many people give see ab right ...  \n",
       "22864                               offence taken friend  "
      ]
     },
     "execution_count": 210,
     "metadata": {},
     "output_type": "execute_result"
    }
   ],
   "source": [
    "df_com.tail()"
   ]
  },
  {
   "cell_type": "code",
   "execution_count": 209,
   "metadata": {},
   "outputs": [],
   "source": [
    "df_com.to_csv('body_clean_comments.csv')\n"
   ]
  },
  {
   "cell_type": "markdown",
   "metadata": {},
   "source": [
    "## Fit a Model to Data"
   ]
  },
  {
   "cell_type": "code",
   "execution_count": 268,
   "metadata": {},
   "outputs": [],
   "source": [
    "from sklearn.feature_extraction.text import CountVectorizer\n"
   ]
  },
  {
   "cell_type": "code",
   "execution_count": 273,
   "metadata": {},
   "outputs": [],
   "source": [
    "# Instantiate the \"CountVectorizer\" object, which is sklearn's\n",
    "# bag of words tool.\n",
    "vectorizer = CountVectorizer(analyzer = \"word\",\n",
    "                             tokenizer = None,\n",
    "                             preprocessor = None,\n",
    "                             stop_words = None,\n",
    "                             max_features = 5000) #hyperparameter"
   ]
  },
  {
   "cell_type": "code",
   "execution_count": 274,
   "metadata": {},
   "outputs": [],
   "source": [
    "train_data_features = vectorizer.fit_transform(df_com['body_clean'])\n"
   ]
  },
  {
   "cell_type": "code",
   "execution_count": 275,
   "metadata": {},
   "outputs": [],
   "source": [
    "test_data_features = vectorizer.transform(df_com['body_clean'])\n"
   ]
  },
  {
   "cell_type": "code",
   "execution_count": 276,
   "metadata": {},
   "outputs": [
    {
     "name": "stdout",
     "output_type": "stream",
     "text": [
      "(22865, 5000)\n"
     ]
    }
   ],
   "source": [
    "print(train_data_features.shape)"
   ]
  },
  {
   "cell_type": "code",
   "execution_count": 277,
   "metadata": {},
   "outputs": [
    {
     "name": "stdout",
     "output_type": "stream",
     "text": [
      "(22865, 5000)\n"
     ]
    }
   ],
   "source": [
    "print(test_data_features.shape)"
   ]
  },
  {
   "cell_type": "code",
   "execution_count": 278,
   "metadata": {},
   "outputs": [
    {
     "name": "stdout",
     "output_type": "stream",
     "text": [
      "['ab', 'abdomen', 'abdominal', 'abdominis', 'abduction', 'ability', 'able', 'absolute', 'absolutely', 'absorb', 'absorbed', 'absurd', 'accent', 'accept', 'acceptable', 'access', 'accessible', 'accessory', 'accident', 'accidental', 'accidentally', 'accomplish', 'accomplished', 'accomplishment', 'according', 'accordingly', 'account', 'accountability', 'accountable', 'accuracy', 'accurate', 'accurately', 'ache', 'achievable', 'achieve', 'achieved', 'achievement', 'achieving', 'achilles', 'acid', 'acidic', 'acl', 'aclrksn', 'across', 'act', 'action', 'activate', 'activated', 'activating', 'activation', 'active', 'actively', 'activity', 'actual', 'actually', 'ad', 'adam', 'adapt', 'adaptation', 'adapted', 'adapting', 'adapts', 'add', 'added', 'addicted', 'addicting', 'addiction', 'adding', 'addition', 'additional', 'address', 'adequate', 'adhd', 'adipose', 'adjust', 'adjustable', 'adjusting', 'adjustment', 'admit', 'adopt', 'adrenaline', 'adult', 'advance', 'advanced', 'advantage', 'adventure', 'advertising', 'advice', 'advise', 'advised', 'aerobic', 'aerobics', 'aesthetic', 'aesthetically', 'af', 'affect', 'affected', 'affecting', 'afford', 'affordable', 'afraid', 'afternoon', 'afterward', 'afterwards', 'age', 'aged', 'aggressive', 'aging', 'ago', 'agree', 'agreed', 'ah', 'ahah', 'ahaha', 'ahead', 'ahh', 'ahhh', 'aid', 'aim', 'aiming', 'air', 'aka', 'al', 'alarm', 'alcohol', 'alert', 'algeria', 'algerian', 'alive', 'allergic', 'allow', 'allowed', 'allowing', 'allows', 'allrecipes', 'almond', 'almost', 'alone', 'along', 'alongside', 'alot', 'already', 'alright', 'also', 'alt', 'alter', 'alternate', 'alternating', 'alternative', 'alternatively', 'although', 'altitude', 'altogether', 'always', 'amateur', 'amazed', 'amazing', 'amazingly', 'amazon', 'america', 'american', 'amino', 'among', 'amount', 'amp', 'anaerobic', 'anal', 'anatomy', 'android', 'anger', 'angle', 'angry', 'animal', 'ankle', 'annoying', 'another', 'anova', 'answer', 'answered', 'answering', 'ant', 'anterior', 'anti', 'antidepressant', 'anxiety', 'anxious', 'anybody', 'anymore', 'anyone', 'anything', 'anytime', 'anyway', 'anyways', 'anywhere', 'ap', 'apart', 'apartment', 'apologize', 'apology', 'app', 'apparently', 'appeal', 'appealing', 'appear', 'appearance', 'appears', 'appetit', 'appetite', 'appetizing', 'apple', 'applicable', 'application', 'applied', 'applies', 'apply', 'appointment', 'appreciate', 'appreciated', 'appreciation', 'approach', 'appropriate', 'appropriately', 'approve', 'approx', 'approximately', 'apps', 'april', 'aqua', 'arch', 'area', 'arent', 'argue', 'argument', 'arm', 'army', 'arnold', 'aroma', 'around', 'arranged', 'art', 'arthritis', 'article', 'artificial', 'as', 'asap', 'ashamed', 'asian', 'aside', 'ask', 'asked', 'asking', 'asks', 'asleep', 'asparagus', 'aspect', 'ass', 'assault', 'assembly', 'assessment', 'assist', 'assistance', 'assisted', 'associate', 'associated', 'assume', 'assumed', 'assuming', 'assumption', 'assure', 'asthma', 'aswell', 'ate', 'athlean', 'athleanx', 'athlete', 'athletic', 'atleast', 'atm', 'atrophy', 'attach', 'attached', 'attack', 'attempt', 'attempted', 'attempting', 'attention', 'attitude', 'attracted', 'attractive', 'aunt', 'aussie', 'australia', 'australian', 'authentic', 'author', 'automatically', 'available', 'average', 'avocado', 'avoid', 'avoiding', 'aw', 'awake', 'award', 'aware', 'away', 'awe', 'awesome', 'awful', 'awhile', 'awkward', 'aworkoutroutine', 'ay', 'ba', 'babish', 'baby', 'back', 'background', 'backpack', 'backstory', 'backwards', 'bacon', 'bacteria', 'bad', 'badass', 'badly', 'bag', 'bagel', 'baggy', 'baguette', 'bake', 'baked', 'baker', 'bakery', 'baking', 'baklava', 'balance', 'balanced', 'balancing', 'ball', 'balsamic', 'bam', 'ban', 'banana', 'band', 'bang', 'banh', 'bank', 'banned', 'bao', 'bar', 'barbecue', 'barbell', 'barefoot', 'barely', 'basal', 'base', 'based', 'basic', 'basically', 'basil', 'basis', 'basketball', 'basmati', 'bastard', 'baste', 'basted', 'bat', 'batch', 'bath', 'bathroom', 'batter', 'battle', 'bay', 'bb', 'bbb', 'bbq', 'bc', 'bcaas', 'beach', 'bean', 'bear', 'beast', 'beat', 'beaten', 'beating', 'beautiful', 'beautifully', 'beauty', 'became', 'bechamel', 'become', 'becomes', 'becoming', 'bed', 'bedroom', 'beef', 'beer', 'beet', 'beforehand', 'began', 'begin', 'beginner', 'beginning', 'behavior', 'behind', 'belief', 'believe', 'bell', 'belly', 'belongs', 'belt', 'bench', 'benching', 'bend', 'bending', 'benedict', 'beneficial', 'benefit', 'bent', 'berlin', 'berry', 'besides', 'best', 'bet', 'better', 'beyond', 'bf', 'bff', 'bi', 'biased', 'bicep', 'biceps', 'bicycle', 'big', 'bigger', 'biggest', 'bike', 'biking', 'bill', 'binaural', 'binge', 'binging', 'bingo', 'bird', 'birth', 'birthday', 'biscuit', 'bit', 'bitch', 'bite', 'bitter', 'black', 'blade', 'blame', 'blend', 'blended', 'blender', 'bless', 'blessed', 'bloat', 'bloated', 'bloating', 'block', 'blog', 'blogger', 'blogilates', 'blood', 'bloody', 'blow', 'blown', 'blue', 'blueberry', 'bmi', 'bmr', 'bo', 'board', 'boat', 'bod', 'body', 'bodybuilder', 'bodybuilding', 'bodyfat', 'bodyweight', 'bodyweightfitness', 'boi', 'boil', 'boiled', 'boiling', 'bolognese', 'bomb', 'bon', 'bonappetit', 'bone', 'boneless', 'bonus', 'boob', 'book', 'boom', 'boomer', 'boost', 'boosting', 'boot', 'booty', 'bored', 'boredom', 'boring', 'born', 'bot', 'bother', 'bothered', 'bottle', 'bottom', 'bought', 'bouldering', 'bounce', 'bout', 'bowflex', 'bowl', 'box', 'boxed', 'boxer', 'boxing', 'boy', 'boyfriend', 'bpm', 'bqjwwqrwagu', 'bra', 'brace', 'bracing', 'bracket', 'brain', 'brand', 'brave', 'bravo', 'bread', 'breading', 'break', 'breakdown', 'breakfast', 'breaking', 'breast', 'breath', 'breathe', 'breathing', 'bret', 'brick', 'bridge', 'bright', 'brilliant', 'brine', 'bring', 'bringing', 'brings', 'brioche', 'brisk', 'brisket', 'british', 'bro', 'broad', 'broccoli', 'broil', 'broiler', 'broke', 'broken', 'bros', 'broth', 'brother', 'brought', 'brown', 'browned', 'brownie', 'browning', 'bruh', 'brunch', 'brush', 'brushing', 'brutal', 'btw', 'bubble', 'buck', 'bucket', 'bud', 'buddy', 'budget', 'buff', 'buffalo', 'bug', 'build', 'builder', 'building', 'built', 'bulgarian', 'bulgogi', 'bulk', 'bulking', 'bulky', 'bullshit', 'bum', 'bump', 'bun', 'bunch', 'burger', 'burn', 'burned', 'burner', 'burning', 'burnt', 'burpee', 'burpees', 'burrito', 'burst', 'bus', 'business', 'busy', 'butcher', 'butt', 'butter', 'buttercream', 'butterfly', 'buttermilk', 'buttery', 'button', 'buy', 'buying', 'bw', 'ca', 'cabbage', 'cable', 'caesar', 'caffeine', 'cage', 'cajun', 'cake', 'cal', 'calculate', 'calculator', 'calendar', 'calf', 'california', 'calisthenics', 'call', 'called', 'calling', 'calm', 'caloric', 'calorie', 'cals', 'came', 'camera', 'camp', 'campaign', 'can', 'canada', 'canadian', 'cancel', 'cancer', 'candy', 'canned', 'cannot', 'canola', 'cant', 'cap', 'capable', 'capacity', 'car', 'caramel', 'caramelized', 'carb', 'carbohydrate', 'carbonara', 'carbs', 'card', 'cardamom', 'cardiac', 'cardio', 'cardiovascular', 'care', 'careful', 'carefully', 'caring', 'carnivore', 'carpet', 'carried', 'carrot', 'carry', 'carrying', 'cart', 'case', 'casserole', 'cast', 'casual', 'cat', 'catch', 'category', 'caught', 'cauliflower', 'cause', 'caused', 'causing', 'cautious', 'cayenne', 'ceiling', 'celery', 'cell', 'celsius', 'cent', 'center', 'central', 'ceramic', 'cereal', 'certain', 'certainly', 'certified', 'cha', 'chafing', 'chain', 'chair', 'challenge', 'challenging', 'cham', 'champ', 'champion', 'chance', 'change', 'changed', 'changer', 'changing', 'channel', 'char', 'character', 'charcoal', 'charge', 'charm', 'chart', 'chase', 'chasing', 'chat', 'cheap', 'cheaper', 'cheat', 'cheating', 'check', 'checked', 'checking', 'cheddar', 'cheek', 'cheer', 'cheese', 'cheeseburger', 'cheesecake', 'cheesy', 'chef', 'chemical', 'cherry', 'chest', 'chew', 'chewy', 'chicago', 'chick', 'chicken', 'chickpea', 'child', 'childhood', 'chile', 'chilean', 'chili', 'chilies', 'chill', 'chilled', 'chilli', 'chin', 'chinese', 'chip', 'chipotle', 'chiropractor', 'chive', 'chocolate', 'choice', 'cholesterol', 'choose', 'choosing', 'chop', 'chopped', 'chore', 'chorizo', 'chose', 'christ', 'christmas', 'chronic', 'chubby', 'chuck', 'chunk', 'chunky', 'cilantro', 'cinnamon', 'circle', 'circuit', 'cite', 'citrate', 'citrus', 'city', 'claim', 'clam', 'clarified', 'clarify', 'clarity', 'class', 'classic', 'claw', 'clean', 'cleaning', 'clear', 'clearing', 'clearly', 'click', 'clickbait', 'client', 'climb', 'climber', 'climbing', 'cling', 'clinic', 'clip', 'clock', 'close', 'closed', 'closely', 'closer', 'cloth', 'clothes', 'clothing', 'clove', 'club', 'clue', 'clump', 'cm', 'cns', 'co', 'coach', 'coaching', 'coat', 'coated', 'coating', 'cocktail', 'cocoa', 'coconut', 'code', 'coffee', 'cognitive', 'cold', 'college', 'color', 'coloring', 'colour', 'com', 'combat', 'combination', 'combine', 'combined', 'combining', 'combo', 'come', 'comfort', 'comfortable', 'comfortably', 'coming', 'comment', 'commented', 'commenter', 'commercial', 'commit', 'commitment', 'committed', 'common', 'commonly', 'community', 'company', 'comparable', 'compare', 'compared', 'comparing', 'comparison', 'compensate', 'compete', 'competing', 'competition', 'competitive', 'complain', 'complaining', 'complaint', 'complete', 'completed', 'completely', 'completing', 'complex', 'complicated', 'compliment', 'component', 'compose', 'composition', 'compound', 'compression', 'computer', 'con', 'concentrate', 'concentrated', 'concentration', 'concentric', 'concept', 'concern', 'concerned', 'concrete', 'condensed', 'condiment', 'condition', 'conditioned', 'conditioning', 'confidence', 'confident', 'confirm', 'confused', 'congrats', 'congratulation', 'connection', 'conquer', 'conscious', 'consider', 'consideration', 'considered', 'considering', 'consist', 'consistency', 'consistent', 'consistently', 'consists', 'constant', 'constantine', 'constantly', 'consult', 'consume', 'consumed', 'consuming', 'consumption', 'contact', 'contain', 'container', 'content', 'context', 'continually', 'continue', 'continued', 'continues', 'continuing', 'continuously', 'contract', 'contraction', 'contrast', 'contreras', 'control', 'controlled', 'controlling', 'convenient', 'conversation', 'convince', 'cook', 'cookbook', 'cooked', 'cooker', 'cookie', 'cooking', 'cooky', 'cool', 'cooled', 'cooling', 'coordination', 'copy', 'core', 'coriander', 'corn', 'corner', 'cornflakes', 'cornstarch', 'coronavirus', 'correct', 'corrected', 'correctly', 'cortisol', 'cost', 'costco', 'cottage', 'couch', 'could', 'couldnt', 'count', 'counter', 'counting', 'countless', 'country', 'couple', 'course', 'cousin', 'cover', 'covered', 'covering', 'covid', 'cow', 'coz', 'crab', 'crack', 'cracked', 'cracker', 'cracking', 'craft', 'craigslist', 'cramp', 'crank', 'crap', 'crash', 'crashing', 'crave', 'craving', 'crawl', 'crazy', 'cream', 'creamy', 'create', 'created', 'creates', 'creatine', 'creating', 'creative', 'credit', 'crepe', 'crew', 'cringe', 'crisp', 'crispier', 'crispy', 'critical', 'criticism', 'croissant', 'crop', 'cross', 'crossed', 'crossfit', 'crouton', 'crucial', 'crumb', 'crumbly', 'crunch', 'crunchy', 'crush', 'crushed', 'crusher', 'crushing', 'crust', 'crusted', 'crutch', 'cry', 'cryotherapy', 'csps', 'cube', 'cucumber', 'cuff', 'cuisine', 'culinary', 'culture', 'cumin', 'cunt', 'cup', 'cupcake', 'curd', 'cure', 'cured', 'curiosity', 'curious', 'curl', 'curling', 'current', 'currently', 'curry', 'curse', 'curve', 'customer', 'cut', 'cute', 'cutting', 'cuz', 'cxmputerize', 'cycle', 'cycling', 'da', 'dad', 'dahi', 'daily', 'dairy', 'dam', 'damage', 'damaged', 'damaging', 'damn', 'dance', 'dancer', 'dancing', 'dang', 'danger', 'dangerous', 'danish', 'dank', 'dare', 'darebee', 'dark', 'darker', 'dash', 'dat', 'data', 'date', 'daughter', 'day', 'dayum', 'db', 'dda', 'de', 'dead', 'deadlift', 'deadlifting', 'deadlifts', 'deal', 'dealing', 'dear', 'death', 'decade', 'decathlon', 'deceiving', 'december', 'decent', 'deception', 'decide', 'decided', 'deciding', 'decision', 'deck', 'decline', 'decrease', 'decreased', 'dedicate', 'dedicated', 'dedication', 'deep', 'deeper', 'def', 'deficiency', 'deficit', 'define', 'defined', 'definitely', 'definition', 'degree', 'dehydrated', 'dehydration', 'delay', 'delayed', 'delete', 'deleted', 'delicious', 'delish', 'deliver', 'delivery', 'deload', 'delt', 'deltoid', 'delts', 'demand', 'demanding', 'demonstration', 'dense', 'density', 'depend', 'dependent', 'depending', 'depends', 'depressed', 'depression', 'depth', 'der', 'describe', 'described', 'describing', 'description', 'descriptive', 'desert', 'deserve', 'deserves', 'design', 'designed', 'desire', 'desired', 'desk', 'desperate', 'despite', 'dessert', 'destroy', 'detail', 'detailed', 'detergent', 'determination', 'determine', 'determined', 'detroit', 'develop', 'developed', 'developing', 'development', 'device', 'devil', 'df', 'dhaniya', 'diabetes', 'diabetic', 'diagnosed', 'dial', 'diamond', 'diced', 'dick', 'didnt', 'die', 'died', 'diet', 'dietary', 'dieting', 'difference', 'different', 'differently', 'difficult', 'difficulty', 'dig', 'digest', 'digital', 'dijon', 'dill', 'dining', 'dinner', 'dip', 'dipped', 'dipping', 'direct', 'direction', 'directly', 'dirty', 'disagree', 'disappeared', 'disappointed', 'disc', 'discard', 'discipline', 'disciplined', 'disclaimer', 'discomfort', 'discount', 'discourage', 'discouraged', 'discouraging', 'discovered', 'discus', 'discussion', 'disease', 'dish', 'dislike', 'disorder', 'dissolve', 'distance', 'distribution', 'dive', 'divide', 'divine', 'diy', 'dl', 'dm', 'doable', 'doc', 'doctor', 'doesnt', 'dog', 'dollar', 'dominant', 'doms', 'done', 'doneness', 'donkey', 'dont', 'donut', 'door', 'doorframe', 'dope', 'doritos', 'dose', 'double', 'doubled', 'doubt', 'doucette', 'dough', 'doughnut', 'down', 'download', 'downloaded', 'downside', 'downvote', 'downvoted', 'dozen', 'dp', 'dr', 'drag', 'dragon', 'dragonsdoexist', 'drain', 'dramatic', 'drank', 'drastically', 'draw', 'dream', 'dredge', 'dress', 'dressing', 'dried', 'drill', 'drink', 'drinking', 'drip', 'drive', 'driving', 'drizzle', 'drool', 'drooling', 'drop', 'dropped', 'dropping', 'drowning', 'drug', 'dry', 'duck', 'dude', 'due', 'duh', 'dumb', 'dumbbell', 'dumbell', 'dumbells', 'dump', 'dumpling', 'dunno', 'duration', 'dust', 'dusted', 'dutch', 'dying', 'dynamic', 'ea', 'ear', 'earlier', 'early', 'earth', 'ease', 'easier', 'easiest', 'easily', 'east', 'easter', 'easy', 'eat', 'eaten', 'eater', 'eating', 'eats', 'ebay', 'eccentric', 'echo', 'ect', 'ed', 'edge', 'edible', 'edit', 'edited', 'educate', 'educated', 'education', 'effect', 'effective', 'effectively', 'efficient', 'efficiently', 'effort', 'egg', 'ego', 'egypt', 'eh', 'eight', 'either', 'ej', 'elaborate', 'elastic', 'elbow', 'electric', 'electrolyte', 'element', 'elevate', 'elevated', 'elevation', 'eliminate', 'elliptical', 'else', 'em', 'email', 'embarrassed', 'embrace', 'emotion', 'emotional', 'emphasis', 'emphasize', 'empty', 'emptying', 'en', 'enchilada', 'encourage', 'encouragement', 'encouraging', 'end', 'ended', 'endorphin', 'endurance', 'energized', 'energy', 'engage', 'engaged', 'engaging', 'engine', 'england', 'english', 'enhance', 'enjoy', 'enjoyable', 'enjoyed', 'enjoying', 'enough', 'ensure', 'enter', 'entire', 'entirely', 'environment', 'epic', 'episode', 'equal', 'equally', 'equation', 'equipment', 'equivalent', 'er', 'error', 'especially', 'espresso', 'essential', 'essentially', 'establish', 'esteem', 'estimate', 'etc', 'europe', 'european', 'evaluate', 'evaporated', 'even', 'evening', 'evenly', 'event', 'eventually', 'ever', 'every', 'everybody', 'everyday', 'everyone', 'everything', 'everytime', 'everywhere', 'evidence', 'ex', 'exact', 'exactly', 'example', 'excellent', 'except', 'exception', 'excercise', 'excercises', 'excess', 'excessive', 'excited', 'excites', 'exciting', 'exclusively', 'excuse', 'exercise', 'exercised', 'exercising', 'exertion', 'exhale', 'exhausted', 'exist', 'existed', 'existing', 'exists', 'expand', 'expect', 'expectation', 'expected', 'expecting', 'expend', 'expenditure', 'expensive', 'exper', 'experience', 'experienced', 'experiencing', 'experiment', 'experimenting', 'expert', 'explain', 'explained', 'explaining', 'explains', 'explanation', 'explosive', 'exposure', 'extend', 'extended', 'extension', 'extent', 'external', 'extra', 'extract', 'extreme', 'extremely', 'eye', 'eyeballed', 'fabulous', 'face', 'facebook', 'facing', 'fact', 'factor', 'fad', 'fail', 'failed', 'fails', 'failure', 'fair', 'fairly', 'faith', 'fake', 'fall', 'fallen', 'falling', 'false', 'fam', 'familiar', 'family', 'famous', 'fan', 'fancy', 'fantastic', 'faq', 'far', 'farm', 'farmer', 'farther', 'fast', 'fasted', 'faster', 'fasting', 'fat', 'father', 'fatigue', 'fatigued', 'fatty', 'fav', 'favorite', 'favourite', 'fb', 'fear', 'feature', 'fed', 'fee', 'feed', 'feedback', 'feeding', 'feel', 'feeling', 'fell', 'fellow', 'felt', 'female', 'ferment', 'feta', 'fewer', 'ff', 'fianc', 'fiber', 'fibre', 'field', 'fight', 'fighter', 'fighting', 'figure', 'figured', 'figuring', 'fil', 'file', 'filet', 'fill', 'filled', 'fillet', 'filling', 'film', 'filter', 'final', 'finally', 'financial', 'find', 'finding', 'fine', 'finely', 'finger', 'finish', 'finished', 'finisher', 'finishing', 'fire', 'fired', 'firm', 'first', 'firstly', 'fish', 'fist', 'fit', 'fitbit', 'fitbod', 'fitbyjennifer', 'fitness', 'fitnessblender', 'fitter', 'fitting', 'five', 'fix', 'fixed', 'fixing', 'flag', 'flair', 'flake', 'flaky', 'flame', 'flat', 'flatbread', 'flatten', 'flavor', 'flavored', 'flavorful', 'flavour', 'flax', 'flex', 'flexibility', 'flexible', 'flexing', 'flexion', 'flexor', 'flight', 'flip', 'flipped', 'flipping', 'floating', 'floor', 'floppy', 'flour', 'floured', 'flow', 'flower', 'flowing', 'flu', 'fluctuate', 'fluctuation', 'fluffy', 'fluid', 'flush', 'flutter', 'fly', 'fm', 'foam', 'foamy', 'focaccia', 'focus', 'focused', 'focusing', 'fog', 'foil', 'fold', 'folded', 'folk', 'follow', 'followed', 'following', 'food', 'foodie', 'foodporn', 'fool', 'foolproof', 'foot', 'football', 'force', 'forced', 'forcing', 'forearm', 'forever', 'forget', 'forgive', 'forgot', 'fork', 'form', 'format', 'formatting', 'formed', 'former', 'forming', 'formula', 'forth', 'fortunately', 'forum', 'forward', 'found', 'foundation', 'four', 'fr', 'fracture', 'fragrant', 'frame', 'france', 'frank', 'frankly', 'fraud', 'freaking', 'free', 'freeze', 'freezer', 'freezing', 'french', 'frequency', 'frequent', 'frequently', 'fresh', 'freshly', 'freshman', 'fri', 'friction', 'friday', 'fridge', 'fried', 'friend', 'friendly', 'frog', 'front', 'frosted', 'frosting', 'frozen', 'fruit', 'frustrated', 'frustrating', 'frustration', 'fry', 'fryer', 'frying', 'ft', 'fuck', 'fucked', 'fuckin', 'fucking', 'fuel', 'fueling', 'full', 'fully', 'fun', 'function', 'functional', 'fundamental', 'funny', 'future', 'fyi', 'gain', 'gained', 'gainer', 'gaining', 'galaxy', 'gallery', 'gallon', 'game', 'ganache', 'gap', 'garage', 'garam', 'garbage', 'garlic', 'garnish', 'gas', 'gave', 'gay', 'gear', 'geared', 'gel', 'gelatin', 'gender', 'general', 'generally', 'generic', 'generous', 'genetic', 'genetics', 'genius', 'gentle', 'gently', 'genuinely', 'georgian', 'germ', 'german', 'germany', 'get', 'getting', 'gf', 'ghee', 'gi', 'giant', 'gif', 'gift', 'gig', 'gimmick', 'ginger', 'girl', 'girlfriend', 'github', 'give', 'given', 'giving', 'gl', 'glad', 'glass', 'glaze', 'glazed', 'glide', 'glorious', 'glove', 'glucose', 'glute', 'gluten', 'gm', 'gnocchi', 'go', 'goal', 'goat', 'goblet', 'gochujang', 'god', 'goddamn', 'going', 'gold', 'golden', 'gone', 'gonna', 'goo', 'good', 'goodluck', 'goodness', 'google', 'googled', 'googling', 'gordon', 'gorgeous', 'gosh', 'got', 'gotcha', 'gotta', 'gotten', 'gouda', 'gov', 'gp', 'gr', 'grab', 'grade', 'gradual', 'gradually', 'graduated', 'graham', 'grain', 'gram', 'grand', 'grandma', 'granted', 'granulated', 'grape', 'grass', 'grate', 'grated', 'grateful', 'gravity', 'gravy', 'grease', 'greased', 'greasy', 'great', 'greater', 'greatest', 'greatly', 'greece', 'greek', 'green', 'greg', 'grew', 'grey', 'griddle', 'grill', 'grilled', 'grilling', 'grind', 'grinder', 'grinding', 'grip', 'grippers', 'gripping', 'grocery', 'groove', 'gross', 'ground', 'group', 'grow', 'growing', 'grown', 'grows', 'growth', 'gruyere', 'guarantee', 'guard', 'guess', 'guessing', 'guest', 'guidance', 'guide', 'guideline', 'guilt', 'guilty', 'gulf', 'gum', 'gumbo', 'gummy', 'gun', 'gunna', 'guru', 'gut', 'guy', 'gym', 'gyminiapp', 'gymnastics', 'gyoza', 'gzclp', 'ha', 'habit', 'habitexchange', 'haha', 'hahah', 'hahaha', 'hahahaha', 'hair', 'half', 'halfway', 'halved', 'ham', 'hamburger', 'hammer', 'hamstring', 'hand', 'handed', 'handful', 'handle', 'handling', 'handstand', 'handy', 'hang', 'hanging', 'happen', 'happened', 'happening', 'happens', 'happier', 'happiness', 'happy', 'hard', 'hardcore', 'harder', 'hardest', 'hardly', 'harm', 'harsh', 'hasfit', 'hash', 'hat', 'hate', 'hated', 'hater', 'hating', 'havent', 'hawaiian', 'head', 'headache', 'headphone', 'heal', 'healed', 'healing', 'heals', 'health', 'healthier', 'healthiest', 'healthily', 'healthy', 'heap', 'hear', 'heard', 'hearing', 'heart', 'heartbeat', 'heat', 'heated', 'heath', 'heaven', 'heavenly', 'heavier', 'heavily', 'heavy', 'heck', 'heel', 'height', 'held', 'hell', 'hella', 'hello', 'help', 'helped', 'helpful', 'helping', 'hence', 'herb', 'herniated', 'hero', 'hex', 'hey', 'hgh', 'hi', 'hide', 'high', 'higher', 'highest', 'highly', 'hiit', 'hike', 'hiking', 'hilarious', 'hill', 'himalayan', 'hinge', 'hip', 'hire', 'history', 'hit', 'hitting', 'hm', 'hmm', 'hmmm', 'hmmmm', 'hobby', 'hockey', 'hof', 'hoisin', 'hold', 'holding', 'hole', 'holiday', 'hollandaise', 'hollow', 'hollywood', 'holy', 'home', 'homemade', 'homework', 'honest', 'honestly', 'honey', 'hood', 'hoodie', 'hook', 'hooked', 'hooping', 'hop', 'hope', 'hoped', 'hopefully', 'hoping', 'horizontal', 'hormone', 'horrible', 'horse', 'horseradish', 'hospital', 'hot', 'hotdog', 'hotel', 'hotter', 'hour', 'house', 'household', 'however', 'hr', 'htm', 'html', 'http', 'hug', 'huge', 'huh', 'hula', 'human', 'hummus', 'hundred', 'hunger', 'hungry', 'hunt', 'hurt', 'hurting', 'husband', 'hybrid', 'hydrate', 'hydrated', 'hydration', 'hyperextension', 'hypertrophy', 'ibuprofen', 'ice', 'icing', 'id', 'idea', 'ideal', 'ideally', 'identify', 'idiot', 'idk', 'ie', 'ig', 'ignorant', 'ignore', 'igshid', 'ihavesex', 'ill', 'illness', 'im', 'image', 'imagine', 'imbalance', 'imgur', 'imho', 'immediate', 'immediately', 'immense', 'immersion', 'immune', 'imo', 'impact', 'impatient', 'implement', 'importance', 'important', 'importantly', 'impossible', 'impress', 'impressed', 'impression', 'impressive', 'improper', 'improve', 'improved', 'improvement', 'improves', 'improving', 'inaccurate', 'inactive', 'inc', 'inch', 'incline', 'inclined', 'include', 'included', 'includes', 'including', 'income', 'incorporate', 'incorporated', 'incorporating', 'incorrect', 'incorrectly', 'increase', 'increased', 'increasing', 'incredible', 'incredibly', 'increment', 'indeed', 'index', 'indian', 'indication', 'individual', 'indoor', 'indoors', 'induced', 'inevitable', 'infection', 'inflammation', 'info', 'information', 'informed', 'ingredient', 'inhaler', 'initial', 'initially', 'injure', 'injured', 'injury', 'inner', 'input', 'insane', 'insanely', 'insanity', 'insecure', 'insecurity', 'insert', 'inside', 'insight', 'insomnia', 'inspiration', 'inspirational', 'inspire', 'inspired', 'inspires', 'inspiring', 'insta', 'instagram', 'instance', 'instant', 'instantly', 'instead', 'instruction', 'instructional', 'instructor', 'insulin', 'insult', 'insulted', 'insurance', 'intake', 'integrate', 'intended', 'intense', 'intensely', 'intensity', 'intensive', 'intention', 'intentional', 'intentionally', 'interact', 'interest', 'interested', 'interesting', 'intermediate', 'intermittent', 'intermittentfasting', 'internal', 'internet', 'interval', 'intimidated', 'intimidating', 'intrigued', 'introduced', 'introducing', 'introduction', 'inverted', 'invest', 'invested', 'involve', 'involved', 'involves', 'involving', 'io', 'iossmf', 'iphone', 'irish', 'iron', 'irritation', 'ish', 'island', 'isnt', 'isolate', 'isolated', 'isolating', 'isolation', 'isometric', 'issue', 'istanbul', 'italian', 'italy', 'item', 'ive', 'jack', 'jacked', 'jalape', 'jalapeno', 'jam', 'jambalaya', 'january', 'japan', 'japanese', 'jar', 'jasmine', 'jaw', 'jawline', 'jazzercise', 'jealous', 'jean', 'jeff', 'jefit', 'jello', 'jelly', 'jerk', 'jesus', 'jitsu', 'jk', 'job', 'joe', 'jog', 'jogging', 'john', 'join', 'joined', 'joining', 'joint', 'joke', 'joking', 'jools', 'joshua', 'journal', 'journey', 'joy', 'jpg', 'judge', 'judgement', 'judging', 'jug', 'juice', 'juicy', 'july', 'jump', 'jumping', 'junk', 'justify', 'karma', 'katsu', 'kayaking', 'kcal', 'kebab', 'keep', 'keeping', 'kenji', 'kept', 'ketchup', 'keto', 'ketogains', 'kettle', 'kettlebell', 'kettlebells', 'key', 'keyboard', 'kfc', 'kg', 'khachapuri', 'kick', 'kickback', 'kickboxing', 'kicked', 'kicking', 'kid', 'kidding', 'kidney', 'kill', 'killer', 'killing', 'kilo', 'kilogram', 'kilometer', 'kind', 'kinda', 'kindly', 'kindness', 'kinesiology', 'king', 'kitchen', 'kj', 'km', 'knead', 'knee', 'knew', 'knife', 'knock', 'know', 'knowing', 'knowledge', 'knowledgeable', 'known', 'korean', 'kosher', 'kudos', 'kzreminderbot', 'la', 'lab', 'label', 'lack', 'lacking', 'lactic', 'lactose', 'ladle', 'lady', 'laid', 'lamb', 'land', 'landmine', 'language', 'lap', 'lard', 'large', 'larger', 'last', 'lastly', 'lat', 'late', 'lately', 'later', 'lateral', 'latter', 'lattice', 'laugh', 'laughed', 'laughing', 'lava', 'law', 'lay', 'layer', 'laying', 'lazy', 'lb', 'le', 'lead', 'leaderboard', 'leading', 'leaf', 'lean', 'leaner', 'leaning', 'learn', 'learned', 'learning', 'least', 'leave', 'leaving', 'led', 'left', 'leftover', 'leg', 'legend', 'legged', 'legging', 'legit', 'lemon', 'lemongrass', 'length', 'lentil', 'lesson', 'let', 'lethargic', 'letting', 'lettuce', 'levain', 'level', 'lever', 'li', 'liar', 'lid', 'lie', 'life', 'lifestyle', 'lifetime', 'lift', 'lifted', 'lifter', 'lifting', 'ligament', 'light', 'lighter', 'lighting', 'lightly', 'like', 'liked', 'likelihood', 'likely', 'liking', 'lil', 'lime', 'limit', 'limitation', 'limited', 'limiting', 'limoncello', 'line', 'linear', 'lined', 'link', 'linked', 'linking', 'lipo', 'liquid', 'list', 'listed', 'listen', 'listening', 'liter', 'literally', 'little', 'live', 'lived', 'living', 'lmao', 'load', 'loaded', 'loading', 'loaf', 'lobster', 'local', 'located', 'location', 'lock', 'lockdown', 'locked', 'locker', 'locking', 'log', 'loin', 'lol', 'long', 'longer', 'look', 'looked', 'lookin', 'looking', 'loop', 'loose', 'loosely', 'loosen', 'loosing', 'lord', 'lose', 'loseit', 'loses', 'losing', 'loss', 'lost', 'lot', 'loud', 'love', 'loved', 'lovely', 'loving', 'low', 'lower', 'lowering', 'lowest', 'luck', 'luckily', 'lucky', 'lumbar', 'lump', 'lunch', 'lung', 'lunge', 'luxury', 'lying', 'mac', 'macaron', 'macaroni', 'macarons', 'macaroon', 'machine', 'macro', 'macronutrient', 'mad', 'made', 'magazine', 'magic', 'magical', 'magnesium', 'mail', 'main', 'maine', 'mainly', 'maintain', 'maintaining', 'maintenance', 'major', 'majority', 'make', 'making', 'male', 'maltose', 'man', 'manage', 'manageable', 'managed', 'management', 'manager', 'managing', 'mandu', 'mango', 'manner', 'manual', 'manufacturer', 'many', 'map', 'marathon', 'march', 'margarine', 'margherita', 'marinade', 'marinate', 'marinated', 'mark', 'market', 'marmite', 'marriage', 'married', 'marry', 'marshmallow', 'martial', 'masa', 'masala', 'mashed', 'mask', 'mass', 'massage', 'massive', 'master', 'mat', 'match', 'mate', 'material', 'math', 'matter', 'mature', 'max', 'maximal', 'maximize', 'maximum', 'may', 'maybe', 'mayo', 'mc', 'mcdonald', 'meal', 'mean', 'meaning', 'meaningless', 'meant', 'meantime', 'meanwhile', 'measure', 'measurement', 'measuring', 'meat', 'meatball', 'meatloaf', 'mechanic', 'mechanical', 'mechanism', 'med', 'medical', 'medication', 'medicine', 'meditation', 'mediterranean', 'medium', 'meet', 'meeting', 'melt', 'melted', 'melting', 'member', 'membership', 'meme', 'memory', 'men', 'mental', 'mentality', 'mentally', 'mention', 'mentioned', 'mentioning', 'menu', 'meringue', 'mess', 'message', 'messed', 'messing', 'messy', 'met', 'metabolic', 'metabolism', 'metal', 'meth', 'method', 'metric', 'mewing', 'mexican', 'mi', 'michael', 'michigan', 'micro', 'microwave', 'mid', 'middle', 'midwest', 'might', 'mighty', 'mignon', 'mild', 'mile', 'mileage', 'milestone', 'military', 'milk', 'milkshake', 'mill', 'millennials', 'million', 'mimic', 'min', 'mince', 'minced', 'mind', 'mindful', 'mindset', 'mine', 'mineral', 'mini', 'minimal', 'minimize', 'minimum', 'minor', 'mint', 'minus', 'minute', 'mirin', 'mirror', 'misconception', 'miserable', 'misleading', 'miss', 'missed', 'missing', 'mistake', 'mistaken', 'mix', 'mixed', 'mixer', 'mixing', 'mixture', 'ml', 'mmm', 'mmmm', 'mmmmm', 'mmmmmm', 'mobile', 'mobility', 'mod', 'modality', 'mode', 'model', 'moderate', 'moderately', 'moderation', 'moderator', 'modern', 'modification', 'modified', 'modify', 'moist', 'moisture', 'molasses', 'mold', 'mole', 'mom', 'moment', 'momentum', 'mon', 'monday', 'money', 'monitor', 'monohydrate', 'monster', 'month', 'monthly', 'mood', 'mooing', 'moon', 'morning', 'mostly', 'mother', 'motion', 'motivate', 'motivated', 'motivates', 'motivating', 'motivation', 'motivational', 'mountain', 'mouth', 'mouthful', 'move', 'moved', 'movement', 'mover', 'movie', 'moving', 'mozz', 'mozzarella', 'mph', 'mr', 'mri', 'much', 'muffin', 'mug', 'multi', 'multiple', 'muscle', 'muscular', 'mushroom', 'mushy', 'music', 'mussel', 'must', 'mustard', 'myfitnesspal', 'myoglobin', 'myth', 'naan', 'nah', 'nail', 'nailed', 'naked', 'name', 'named', 'nap', 'napkin', 'narrative', 'narrow', 'nashville', 'nasty', 'nathanwilliamsstrength', 'natural', 'naturally', 'nature', 'nausea', 'nbsp', 'ncbi', 'nd', 'near', 'nearby', 'nearly', 'neat', 'necessarily', 'necessary', 'neck', 'need', 'needed', 'needing', 'needle', 'negative', 'negatively', 'neglect', 'neighbor', 'neighborhood', 'neither', 'ner', 'nerd', 'nerve', 'nervous', 'net', 'neurological', 'neutral', 'never', 'new', 'newbie', 'newer', 'news', 'next', 'nice', 'nicely', 'nicer', 'nicotine', 'night', 'nih', 'nike', 'nippard', 'nlm', 'nobody', 'noise', 'nom', 'non', 'none', 'nonetheless', 'nonsense', 'noodle', 'noon', 'nope', 'normal', 'normally', 'north', 'nose', 'notch', 'note', 'nothing', 'notice', 'noticeable', 'noticed', 'noticing', 'novice', 'nowadays', 'nowhere', 'np', 'nsca', 'nsfw', 'nsuns', 'nugget', 'number', 'nuoc', 'nut', 'nutella', 'nutmeg', 'nutrient', 'nutrition', 'nutritional', 'nutritionist', 'nutritious', 'ny', 'nyc', 'oat', 'oatmeal', 'ob', 'obese', 'obesity', 'object', 'oblique', 'obsessed', 'obvious', 'obviously', 'occasion', 'occasional', 'occasionally', 'occur', 'octopus', 'odd', 'oddly', 'ofc', 'offended', 'offense', 'offer', 'office', 'often', 'oh', 'ohhh', 'ohhhh', 'ohp', 'oil', 'oiled', 'ok', 'okay', 'ol', 'old', 'older', 'olive', 'olympic', 'omad', 'omg', 'one', 'onion', 'online', 'onset', 'onto', 'oof', 'ooh', 'oooo', 'oops', 'op', 'open', 'opened', 'opening', 'opinion', 'opportunity', 'opposed', 'opposite', 'ops', 'opt', 'optimal', 'optimally', 'option', 'optional', 'orange', 'order', 'ordered', 'ordering', 'oregano', 'oreo', 'org', 'organ', 'organic', 'original', 'originally', 'others', 'otherwise', 'ounce', 'out', 'outcome', 'outdoor', 'outdoors', 'outer', 'outfit', 'outlet', 'output', 'outrun', 'outside', 'outstanding', 'outta', 'outward', 'outwork', 'oven', 'overall', 'overboard', 'overcome', 'overcook', 'overcooked', 'overdo', 'overdoing', 'overeat', 'overhead', 'overload', 'overloading', 'overly', 'overnight', 'overtime', 'overtraining', 'overuse', 'overweight', 'overwhelmed', 'overwhelming', 'owner', 'oxygen', 'oyster', 'oz', 'pa', 'pace', 'pack', 'package', 'packed', 'packet', 'pad', 'paddle', 'page', 'paid', 'pain', 'painful', 'paint', 'pair', 'paired', 'pal', 'paleo', 'palm', 'palsy', 'pan', 'pancake', 'pandemic', 'paneer', 'panic', 'panko', 'pant', 'pantry', 'paper', 'paprika', 'parallel', 'parchment', 'parent', 'park', 'parm', 'parmesan', 'parsley', 'part', 'partial', 'participate', 'particular', 'particularly', 'partner', 'party', 'pas', 'pass', 'passed', 'passion', 'passionate', 'past', 'pasta', 'paste', 'pastry', 'pat', 'patch', 'path', 'pathetic', 'patience', 'patient', 'pattern', 'patty', 'pause', 'pay', 'paying', 'pb', 'pdf', 'pe', 'pea', 'peace', 'peach', 'peak', 'peanut', 'pec', 'pecorino', 'pecs', 'pedal', 'peds', 'peek', 'peel', 'peeled', 'peer', 'peloton', 'pelvic', 'pelvis', 'pen', 'penne', 'penny', 'people', 'pepper', 'peppercorn', 'peppered', 'pepperoni', 'pepsi', 'per', 'perceived', 'percent', 'percentage', 'perfect', 'perfection', 'perfectly', 'perform', 'performance', 'performed', 'performing', 'perhaps', 'period', 'permanent', 'person', 'personal', 'personally', 'perspective', 'pf', 'ph', 'phase', 'phenomenal', 'phil', 'phone', 'photo', 'photograph', 'php', 'phrase', 'physic', 'physical', 'physically', 'physician', 'physio', 'physiologist', 'physiology', 'physiotherapist', 'physique', 'pibil', 'pic', 'pick', 'picked', 'picking', 'pickle', 'pickled', 'picky', 'pico', 'picture', 'pie', 'piece', 'pierogi', 'pig', 'pike', 'pilate', 'pill', 'pillow', 'pin', 'pinch', 'pineapple', 'pink', 'pint', 'pinterest', 'pipe', 'piping', 'piss', 'pistachio', 'pistol', 'pizza', 'place', 'placed', 'placement', 'placing', 'plain', 'plan', 'planche', 'planet', 'plank', 'planking', 'planned', 'planning', 'plant', 'plastic', 'plate', 'plateau', 'platform', 'plating', 'play', 'played', 'player', 'playground', 'playing', 'playlist', 'pleasant', 'please', 'pleasing', 'pleasure', 'plenty', 'pls', 'plug', 'plus', 'plvkddaxu', 'plz', 'pm', 'png', 'poach', 'poached', 'poaching', 'pocket', 'pod', 'podcast', 'podcasts', 'point', 'pointed', 'pointer', 'pointing', 'pointless', 'poke', 'pole', 'polish', 'pool', 'poolish', 'poor', 'pop', 'popcorn', 'popeyes', 'popped', 'popping', 'popular', 'population', 'pork', 'porn', 'portable', 'portion', 'pose', 'position', 'positive', 'positively', 'positivity', 'possibility', 'possible', 'possibly', 'post', 'posted', 'poster', 'posterior', 'posting', 'postural', 'posture', 'pot', 'potassium', 'potato', 'potential', 'potentially', 'pouch', 'pound', 'pour', 'poured', 'pouring', 'poutine', 'powder', 'powdered', 'power', 'powerful', 'powerlifting', 'ppl', 'pr', 'practical', 'practically', 'practice', 'practicing', 'pre', 'precise', 'precisely', 'prefer', 'preferably', 'preference', 'preferred', 'prefers', 'preform', 'pregnancy', 'pregnant', 'preheat', 'preheated', 'premade', 'premium', 'prep', 'preparation', 'prepare', 'prepared', 'preparing', 'prepping', 'present', 'presentation', 'preserve', 'press', 'pressed', 'pressing', 'pressure', 'pretend', 'prettiest', 'pretty', 'pretzel', 'prevent', 'preventing', 'prevention', 'prevents', 'previous', 'previously', 'preworkout', 'price', 'primarily', 'primary', 'prime', 'principle', 'prior', 'prioritize', 'priority', 'prison', 'private', 'pro', 'prob', 'probably', 'problem', 'process', 'processed', 'processor', 'produce', 'produced', 'producing', 'product', 'production', 'productive', 'professional', 'professor', 'profile', 'program', 'programme', 'programming', 'progress', 'progressing', 'progression', 'progressive', 'progressively', 'project', 'promise', 'promote', 'promotion', 'prone', 'pronounced', 'proof', 'propane', 'proper', 'properly', 'proportion', 'prosciutto', 'protect', 'protection', 'protein', 'protracted', 'proud', 'prove', 'proven', 'provide', 'provided', 'provides', 'providing', 'provolone', 'przg', 'psychological', 'pt', 'pub', 'puberty', 'public', 'pubmed', 'puck', 'pudding', 'puff', 'pull', 'pulldown', 'pulled', 'pulling', 'pullup', 'pullups', 'pulse', 'pump', 'pumped', 'pumping', 'pumpkin', 'pun', 'punch', 'punish', 'punishment', 'pur', 'purchase', 'purchased', 'purchasing', 'pure', 'puree', 'purely', 'purple', 'purpose', 'push', 'pushed', 'pushing', 'pushup', 'put', 'putting', 'pyramid', 'qdgmgejtrinsmt', 'qid', 'quad', 'quality', 'quantity', 'quarantine', 'quart', 'quarter', 'queen', 'question', 'quiche', 'quick', 'quicker', 'quickly', 'quiet', 'quinoa', 'quit', 'quite', 'quitting', 'quote', 'race', 'rack', 'ragu', 'rail', 'rainbow', 'raise', 'raised', 'raising', 'ramekin', 'ramen', 'ramp', 'ramsey', 'ran', 'random', 'randomly', 'range', 'rare', 'rarely', 'raspberry', 'rat', 'rate', 'rather', 'ratio', 'raw', 'ray', 'rd', 'reach', 'reached', 'reaching', 'reaction', 'read', 'reading', 'ready', 'real', 'realise', 'realised', 'realistic', 'realistically', 'reality', 'realization', 'realize', 'realized', 'realizing', 'really', 'rear', 'reason', 'reasonable', 'reasonably', 'rebuild', 'recall', 'receipe', 'receive', 'received', 'recent', 'recently', 'recipe', 'recipie', 'reckon', 'recognize', 'recommend', 'recommendation', 'recommended', 'recommending', 'recomp', 'recomposition', 'record', 'recover', 'recovered', 'recovering', 'recovery', 'recruit', 'rectangle', 'rectangular', 'rectus', 'recumbent', 'red', 'redd', 'reddit', 'redditor', 'reduce', 'reduced', 'reduces', 'reducing', 'reduction', 'ref', 'refer', 'reference', 'referral', 'referred', 'referring', 'refined', 'refreshing', 'refrigerate', 'regard', 'regarding', 'regardless', 'regimen', 'region', 'regret', 'regular', 'regularly', 'rehab', 'relate', 'related', 'relation', 'relationship', 'relative', 'relatively', 'relax', 'relaxed', 'relaxing', 'release', 'relevant', 'reliable', 'relief', 'relies', 'religious', 'rely', 'relying', 'remain', 'remaining', 'remedy', 'remember', 'remembered', 'remind', 'reminded', 'reminder', 'reminding', 'remindmebot', 'reminds', 'removal', 'remove', 'removed', 'removing', 'render', 'rendered', 'rep', 'repair', 'repeat', 'repeated', 'repetition', 'repetitive', 'replace', 'replaced', 'replacement', 'replacing', 'replied', 'repliesnice', 'reply', 'replying', 'report', 'reputable', 'require', 'required', 'requirement', 'requires', 'research', 'researching', 'reserve', 'resist', 'resistance', 'resistant', 'resolution', 'resort', 'resource', 'respect', 'respond', 'responding', 'responds', 'response', 'responsible', 'rest', 'restaurant', 'rested', 'resting', 'restless', 'restrict', 'restriction', 'resubmit', 'result', 'resulting', 'retain', 'retention', 'retitle', 'return', 'reverse', 'review', 'reviewed', 'reward', 'rewarding', 'rhubarb', 'rhythm', 'rib', 'ribeye', 'ribeyes', 'rice', 'rich', 'ricotta', 'rid', 'ride', 'ridiculous', 'riding', 'right', 'ring', 'rip', 'ripped', 'rise', 'rising', 'risk', 'risotto', 'rkmfensvl', 'rn', 'road', 'roast', 'roasted', 'rock', 'rogan', 'rogue', 'roids', 'role', 'roll', 'rolled', 'roller', 'rolling', 'rollout', 'rollouts', 'rom', 'romanian', 'room', 'root', 'rope', 'roping', 'rose', 'rosemary', 'rotate', 'rotating', 'rotation', 'rotator', 'roti', 'rough', 'roughly', 'round', 'rounded', 'route', 'routine', 'roux', 'row', 'rowing', 'rub', 'rubber', 'rude', 'ruin', 'ruined', 'rule', 'run', 'runner', 'running', 'runny', 'rush', 'russian', 'sacrifice', 'sad', 'sadly', 'safe', 'safely', 'safer', 'safety', 'saggy', 'said', 'sake', 'salad', 'sale', 'sally', 'salmon', 'salsa', 'salt', 'salted', 'salty', 'sample', 'san', 'sandwich', 'sat', 'satisfied', 'satisfying', 'saturday', 'sauce', 'sauna', 'sausage', 'saut', 'saute', 'sauteed', 'save', 'saved', 'saving', 'savory', 'savoury', 'saw', 'say', 'saying', 'scale', 'scallion', 'scampi', 'scan', 'scapula', 'scar', 'scared', 'scary', 'scenario', 'scene', 'schedule', 'scheduled', 'scheme', 'school', 'science', 'scientific', 'scoliosis', 'scone', 'scoop', 'score', 'scott', 'scottish', 'scrambled', 'scrap', 'scrape', 'scraping', 'scratch', 'screen', 'screw', 'scroll', 'scrolling', 'scrumptious', 'sea', 'seafood', 'seal', 'sear', 'search', 'seared', 'searing', 'season', 'seasoned', 'seasoning', 'seat', 'seated', 'sec', 'second', 'secondary', 'secondly', 'secret', 'section', 'sedentary', 'see', 'seed', 'seeing', 'seek', 'seeking', 'seem', 'seemed', 'seemingly', 'seems', 'seen', 'select', 'selection', 'self', 'sell', 'semi', 'send', 'sending', 'senior', 'sensation', 'sense', 'sensible', 'sensitive', 'sent', 'sentence', 'separate', 'separated', 'separately', 'sequence', 'serf', 'series', 'serious', 'seriouseats', 'seriously', 'serrano', 'serve', 'served', 'service', 'serving', 'sesame', 'session', 'set', 'setting', 'setup', 'sev', 'several', 'severe', 'sex', 'sexy', 'shadow', 'shadowboxing', 'shake', 'shaker', 'shaking', 'shallot', 'shallow', 'shame', 'shape', 'shaped', 'share', 'sharing', 'sharp', 'sharpener', 'shaving', 'shed', 'sheet', 'shelf', 'shell', 'shepherd', 'shift', 'shin', 'shiny', 'shirt', 'shit', 'shitty', 'shock', 'shoe', 'shoot', 'shop', 'shopping', 'short', 'shortage', 'shortcut', 'shorten', 'shorter', 'shortly', 'shot', 'shoulder', 'shout', 'show', 'showed', 'shower', 'showing', 'shown', 'shred', 'shredded', 'shrimp', 'shrink', 'shrug', 'shut', 'shy', 'si', 'sick', 'sickness', 'side', 'sideways', 'sieve', 'sift', 'sight', 'sign', 'signal', 'signed', 'significant', 'significantly', 'silly', 'silpats', 'similar', 'simmer', 'simmering', 'simple', 'simpler', 'simply', 'since', 'single', 'sink', 'sir', 'siracha', 'sister', 'sit', 'site', 'sits', 'sitting', 'situation', 'situps', 'siu', 'six', 'size', 'sized', 'skating', 'skeptical', 'skill', 'skillet', 'skim', 'skin', 'skinless', 'skinny', 'skip', 'skipping', 'skull', 'slab', 'slam', 'slap', 'slaw', 'sleep', 'sleeping', 'sleeve', 'slept', 'slice', 'sliced', 'slide', 'slight', 'slightest', 'slightly', 'slim', 'slip', 'sloppy', 'slow', 'slower', 'slowing', 'slowly', 'small', 'smaller', 'smart', 'smarter', 'smash', 'smear', 'smell', 'smile', 'smith', 'smoke', 'smoked', 'smoker', 'smoking', 'smoky', 'smooth', 'smoothie', 'snack', 'snacking', 'snap', 'snatch', 'sneak', 'sneaker', 'sneakpeekbot', 'snow', 'soak', 'soaked', 'soaking', 'soccer', 'social', 'society', 'sock', 'soda', 'sodium', 'soft', 'softened', 'softer', 'soggy', 'sold', 'solid', 'solution', 'solve', 'somebody', 'somehow', 'someone', 'something', 'sometime', 'sometimes', 'somewhat', 'somewhere', 'son', 'song', 'soo', 'soon', 'sooner', 'sooo', 'soooo', 'sooooo', 'sore', 'soreness', 'sorry', 'sort', 'sorta', 'sorted', 'sou', 'soul', 'sound', 'sounded', 'soup', 'sour', 'source', 'sourdough', 'south', 'southern', 'soy', 'space', 'spaghetti', 'spam', 'span', 'spanish', 'spare', 'spark', 'spatula', 'speak', 'speaking', 'special', 'specialist', 'specific', 'specifically', 'spectrum', 'speed', 'spelling', 'spend', 'spending', 'spent', 'spice', 'spiced', 'spicy', 'spin', 'spinach', 'spinal', 'spine', 'spinning', 'spirit', 'splash', 'splint', 'split', 'splitting', 'spoke', 'spoon', 'spoonful', 'sport', 'spot', 'spotter', 'spray', 'spread', 'spreading', 'sprig', 'spring', 'springform', 'sprinkle', 'sprinkled', 'sprint', 'sprinter', 'sprinting', 'sprout', 'square', 'squash', 'squat', 'squatting', 'squeeze', 'squeezing', 'sr', 'sriracha', 'st', 'stab', 'stabbot', 'stability', 'stabilization', 'stabilize', 'stabilizer', 'stable', 'stack', 'stacked', 'staff', 'stage', 'stair', 'stalk', 'stamen', 'stance', 'stand', 'standard', 'standing', 'staple', 'star', 'starch', 'stare', 'staring', 'start', 'started', 'starter', 'starting', 'starve', 'starving', 'state', 'stated', 'statement', 'static', 'station', 'stationary', 'stats', 'stay', 'stayed', 'staying', 'steady', 'steak', 'steal', 'stealing', 'steam', 'steamed', 'steel', 'steer', 'stem', 'step', 'stepper', 'stepping', 'steroid', 'stew', 'stick', 'sticking', 'sticky', 'stiff', 'still', 'stimulate', 'stimulating', 'stimulus', 'stir', 'stirred', 'stirring', 'stock', 'stomach', 'stone', 'stool', 'stop', 'stopped', 'stopping', 'storage', 'store', 'stored', 'story', 'stove', 'stovetop', 'straight', 'straighten', 'straightforward', 'strain', 'strainer', 'straining', 'strange', 'stranger', 'strap', 'strategy', 'strawberry', 'stream', 'street', 'strenght', 'strength', 'strengthen', 'strengthening', 'strenuous', 'stress', 'stressed', 'stressor', 'stretch', 'stretched', 'stretching', 'strict', 'strictly', 'stride', 'strike', 'strip', 'stroke', 'strong', 'strongcurves', 'stronger', 'strongerbyscience', 'strongest', 'stronglifts', 'strongly', 'structure', 'struggle', 'struggled', 'struggling', 'stubborn', 'stuck', 'student', 'studio', 'study', 'studying', 'stuff', 'stuffed', 'stuffing', 'stunning', 'stunt', 'stupid', 'sturdy', 'style', 'sub', 'subject', 'subjective', 'submerge', 'submission', 'subreddit', 'subreddits', 'subscribe', 'subscription', 'substitute', 'subtract', 'succeed', 'success', 'successful', 'successfully', 'suck', 'sucked', 'sucker', 'sudden', 'suddenly', 'suffer', 'suffered', 'suffering', 'sufficient', 'sugar', 'sugary', 'suggest', 'suggested', 'suggesting', 'suggestion', 'suggests', 'suicide', 'suit', 'suitable', 'sum', 'summary', 'summer', 'sumo', 'sun', 'sunday', 'sunflower', 'sunny', 'super', 'superior', 'superman', 'supermarket', 'superset', 'supplement', 'supply', 'support', 'supporting', 'supportive', 'suppose', 'supposed', 'sure', 'surely', 'surface', 'surgery', 'surplus', 'surprise', 'surprised', 'surprisingly', 'survive', 'sushi', 'suspect', 'sustain', 'sustainable', 'sw', 'swap', 'swear', 'sweat', 'sweating', 'sweaty', 'sweet', 'sweetener', 'sweetness', 'swim', 'swimming', 'swing', 'swinging', 'swiss', 'switch', 'switched', 'switching', 'symptom', 'syndrome', 'syrup', 'system', 'tabasco', 'tabata', 'table', 'tablespoon', 'taco', 'tad', 'tag', 'tahini', 'tai', 'tail', 'tailored', 'take', 'taken', 'takeout', 'taking', 'talk', 'talked', 'talking', 'tall', 'taller', 'tank', 'tap', 'tape', 'target', 'targeted', 'targeting', 'tart', 'tartar', 'task', 'taste', 'tasted', 'tasting', 'tasty', 'tattoo', 'taught', 'tax', 'tb', 'tbh', 'tbsp', 'tdee', 'tea', 'teach', 'teacher', 'teaching', 'team', 'tear', 'teaspoon', 'technical', 'technically', 'technique', 'teen', 'teenager', 'teeth', 'tell', 'telling', 'temp', 'temperature', 'tempo', 'temporary', 'ten', 'tend', 'tender', 'tenderloin', 'tenderness', 'tendon', 'tends', 'tennis', 'tense', 'tension', 'teriyaki', 'term', 'terrible', 'test', 'tested', 'testing', 'testosterone', 'texan', 'texas', 'text', 'texture', 'tf', 'th', 'thai', 'thank', 'thanks', 'thankyou', 'thats', 'thefitness', 'theory', 'therapist', 'therapy', 'there', 'therefore', 'thermogenesis', 'thermometer', 'theyre', 'thicc', 'thick', 'thicken', 'thickened', 'thicker', 'thickness', 'thigh', 'thin', 'thing', 'think', 'thinking', 'thinly', 'thinner', 'third', 'tho', 'thoracic', 'thoroughly', 'though', 'thought', 'thousand', 'thread', 'three', 'threw', 'throat', 'throughout', 'throw', 'throwing', 'thrown', 'thru', 'thrust', 'thruster', 'thumb', 'thursday', 'thus', 'thx', 'thyme', 'thyroid', 'tic', 'tie', 'tiger', 'tight', 'tighten', 'tighter', 'tightness', 'til', 'till', 'tilt', 'tim', 'time', 'timed', 'timer', 'timing', 'tin', 'tiny', 'tip', 'tire', 'tired', 'tissue', 'tit', 'title', 'tl', 'tldr', 'toast', 'toasted', 'toaster', 'today', 'toddler', 'toe', 'tofu', 'together', 'toilet', 'told', 'tolerance', 'toll', 'tom', 'tomato', 'tomorrow', 'ton', 'tone', 'toned', 'tongs', 'tongue', 'tonight', 'toning', 'tonkatsu', 'took', 'tool', 'toothpick', 'top', 'topic', 'topped', 'topping', 'torso', 'tortellini', 'tortilla', 'toss', 'tossed', 'total', 'totally', 'touch', 'touching', 'tough', 'tougher', 'toward', 'towards', 'towel', 'town', 'track', 'tracker', 'tracking', 'tract', 'trade', 'traditional', 'traditionally', 'trail', 'train', 'trained', 'trainer', 'training', 'trampoline', 'trans', 'transfer', 'transformation', 'transition', 'translate', 'translates', 'translucent', 'trap', 'trash', 'travel', 'traveling', 'tray', 'treadmill', 'treat', 'treated', 'treatment', 'tree', 'tremendously', 'trend', 'trial', 'triangle', 'tricep', 'triceps', 'trick', 'tricky', 'tried', 'trigger', 'trim', 'trip', 'triple', 'troll', 'trouble', 'truck', 'true', 'truly', 'trunk', 'trust', 'trusting', 'truth', 'trx', 'try', 'trying', 'tryna', 'tsp', 'ttime', 'tube', 'tuck', 'tuesday', 'tummy', 'tuna', 'tune', 'turkey', 'turkish', 'turmeric', 'turn', 'turned', 'turning', 'tutorial', 'tv', 'tweak', 'twice', 'twist', 'twisted', 'twitch', 'two', 'ty', 'type', 'typical', 'typically', 'ucuhaxwj', 'ugh', 'ugly', 'uh', 'uk', 'ultimate', 'ultimately', 'un', 'unable', 'uncomfortable', 'uncooked', 'undercooked', 'underdeveloped', 'underestimate', 'underlying', 'underneath', 'underrated', 'understand', 'understanding', 'understood', 'underweight', 'uneven', 'unfortunately', 'unhappy', 'unhealthy', 'uni', 'uniform', 'unique', 'unit', 'united', 'university', 'unless', 'unlike', 'unlikely', 'unnecessary', 'unpleasant', 'unprocessed', 'unreal', 'unsafe', 'unsalted', 'unstable', 'unsure', 'unusual', 'update', 'updated', 'uphill', 'upload', 'upon', 'upper', 'upping', 'upright', 'ups', 'upset', 'upvote', 'upvoted', 'upvotes', 'upwards', 'ur', 'urge', 'us', 'usa', 'usd', 'use', 'used', 'useful', 'useless', 'user', 'username', 'using', 'usual', 'usually', 'utc', 'utilize', 'utm', 'vacuum', 'valid', 'value', 'vanilla', 'vaping', 'variable', 'variant', 'variation', 'varied', 'varies', 'variety', 'various', 'vary', 'varying', 'vaseline', 'veg', 'vega', 'vegan', 'vegetable', 'vegetarian', 'veggie', 'velvet', 'vermicelli', 'versa', 'versatile', 'version', 'versus', 'vertical', 'vertically', 'vest', 'via', 'viable', 'vibe', 'vice', 'victory', 'vide', 'video', 'vids', 'viet', 'vietnam', 'vietnamese', 'view', 'vigorous', 'vinegar', 'virgin', 'virtually', 'virus', 'visceral', 'visible', 'vision', 'visit', 'visiting', 'visually', 'vital', 'vitamin', 'vo', 'vodka', 'voice', 'volume', 'vortex', 'vote', 'vr', 'waffle', 'wagon', 'wagyu', 'waist', 'wait', 'waiting', 'wake', 'waking', 'walk', 'walked', 'walker', 'walking', 'wall', 'walmart', 'walnut', 'wanna', 'want', 'wanted', 'wanting', 'war', 'warm', 'warmed', 'warmer', 'warming', 'warmup', 'warning', 'warrior', 'wasabi', 'wash', 'washed', 'wasnt', 'waste', 'wasted', 'wasting', 'watch', 'watched', 'watching', 'water', 'watering', 'way', 'weak', 'weaker', 'weakness', 'wealth', 'wear', 'wearing', 'weather', 'web', 'website', 'wedding', 'wedge', 'wednesday', 'weed', 'week', 'weekend', 'weekly', 'weigh', 'weighed', 'weighing', 'weighs', 'weight', 'weighted', 'weightlifting', 'weightliftinghub', 'weightloss', 'weightlossadvice', 'weird', 'weissman', 'welcome', 'well', 'wellbeing', 'wellness', 'welp', 'went', 'wet', 'whatever', 'whats', 'whatsoever', 'wheat', 'wheel', 'whenever', 'whereas', 'wherever', 'whether', 'whey', 'whilst', 'whip', 'whipped', 'whisk', 'white', 'whoa', 'whole', 'whose', 'wide', 'wider', 'width', 'wife', 'wiki', 'wikipedia', 'wild', 'willing', 'willpower', 'wim', 'win', 'wind', 'winded', 'window', 'wine', 'wing', 'winging', 'winner', 'winter', 'wipe', 'wire', 'wise', 'wish', 'wishing', 'within', 'without', 'woah', 'wok', 'woke', 'woman', 'wonder', 'wonderful', 'wondering', 'wont', 'wonton', 'wood', 'wooden', 'worcestershire', 'word', 'wore', 'work', 'worked', 'worker', 'working', 'workload', 'workout', 'world', 'worn', 'worried', 'worry', 'worse', 'worst', 'worth', 'would', 'wouldnt', 'wow', 'wrap', 'wrapped', 'wrapper', 'wrist', 'write', 'writer', 'writes', 'writing', 'written', 'wrong', 'wrote', 'wtf', 'www', 'xd', 'xreh', 'ya', 'yah', 'yay', 'ye', 'yea', 'yeah', 'year', 'yeast', 'yellow', 'yep', 'yes', 'yesterday', 'yet', 'yikes', 'ymca', 'yo', 'yoga', 'yoghurt', 'yogurt', 'yolk', 'york', 'yorkshire', 'youll', 'young', 'younger', 'youre', 'youtu', 'youtube', 'yr', 'yt', 'yum', 'yummmm', 'yummy', 'yuo', 'yup', 'zealand', 'zero', 'zest', 'zgmeqx', 'zombie', 'zone', 'zoom', 'zucchini', 'zumba']\n"
     ]
    }
   ],
   "source": [
    "vocab = vectorizer.get_feature_names()\n",
    "print(vocab)"
   ]
  },
  {
   "cell_type": "code",
   "execution_count": null,
   "metadata": {},
   "outputs": [],
   "source": []
  },
  {
   "cell_type": "code",
   "execution_count": null,
   "metadata": {},
   "outputs": [],
   "source": []
  },
  {
   "cell_type": "code",
   "execution_count": null,
   "metadata": {},
   "outputs": [],
   "source": []
  }
 ],
 "metadata": {
  "kernelspec": {
   "display_name": "Python 3",
   "language": "python",
   "name": "python3"
  },
  "language_info": {
   "codemirror_mode": {
    "name": "ipython",
    "version": 3
   },
   "file_extension": ".py",
   "mimetype": "text/x-python",
   "name": "python",
   "nbconvert_exporter": "python",
   "pygments_lexer": "ipython3",
   "version": "3.7.6"
  }
 },
 "nbformat": 4,
 "nbformat_minor": 2
}
