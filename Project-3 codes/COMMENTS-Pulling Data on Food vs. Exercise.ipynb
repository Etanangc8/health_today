{
 "cells": [
  {
   "cell_type": "markdown",
   "metadata": {},
   "source": [
    "<h1><center>Comments: Food vs. Exercise Data Pulling Data</center></h1>"
   ]
  },
  {
   "cell_type": "code",
   "execution_count": 5,
   "metadata": {},
   "outputs": [],
   "source": [
    "import requests\n",
    "import time\n",
    "import pandas as pd\n",
    "\n",
    "from sklearn.feature_extraction.text import CountVectorizer\n",
    "from sklearn.linear_model import LogisticRegression"
   ]
  },
  {
   "cell_type": "code",
   "execution_count": 6,
   "metadata": {},
   "outputs": [],
   "source": [
    "base_url = 'https://api.pushshift.io/reddit/search/comment'\n",
    "#read in pushshift api to access reddit comments"
   ]
  },
  {
   "cell_type": "markdown",
   "metadata": {},
   "source": [
    "## Pulling subreddit for data on \"Food\"\n"
   ]
  },
  {
   "cell_type": "code",
   "execution_count": 7,
   "metadata": {},
   "outputs": [],
   "source": [
    "def get_subs(subreddit, n_iter): #defined \"get_subs\" in order to pull\n",
    "    df_list = []\n",
    "    current_time = 1587272803  #food's time\n",
    "    for _ in range(n_iter): #\" '_' common way to denote you're going to do something \n",
    "                            #X of times, and we don't care about the numbers before the one we name\" \n",
    "        res = requests.get(\n",
    "            base_url,\n",
    "            params = {\n",
    "                'subreddit': subreddit, #this will be able to pull from any subreddit\n",
    "                'size': 500, #Max iter per pull\n",
    "                'before': current_time\n",
    "            }\n",
    "        )\n",
    "        \n",
    "        df = pd.DataFrame(res.json()['data'])\n",
    "        df = df.loc[:, ['created_utc', 'body', 'subreddit']] #show me everything in these columns\n",
    "        df_list.append(df) \n",
    "        current_time = df.created_utc.min()\n",
    "        time.sleep(3) # time delay\n",
    "        \n",
    "    return pd.concat(df_list, axis=0) #adds the selected columns, pulled by .loc[], together\n",
    "\n",
    "\n",
    "# Tim Book code (modified)"
   ]
  },
  {
   "cell_type": "code",
   "execution_count": 8,
   "metadata": {},
   "outputs": [],
   "source": [
    "df_food = get_subs('food', 25)\n",
    "#this code iterates through the 'food' subreddit 25 times at 500 hits each(Max iter for Reddit)"
   ]
  },
  {
   "cell_type": "code",
   "execution_count": 9,
   "metadata": {},
   "outputs": [
    {
     "data": {
      "text/plain": [
       "(12500, 3)"
      ]
     },
     "execution_count": 9,
     "metadata": {},
     "output_type": "execute_result"
    }
   ],
   "source": [
    "df_food.shape\n",
    "# checking for the amount of data pulled\n",
    "#rows, columns"
   ]
  },
  {
   "cell_type": "code",
   "execution_count": 10,
   "metadata": {},
   "outputs": [
    {
     "data": {
      "text/html": [
       "<div>\n",
       "<style scoped>\n",
       "    .dataframe tbody tr th:only-of-type {\n",
       "        vertical-align: middle;\n",
       "    }\n",
       "\n",
       "    .dataframe tbody tr th {\n",
       "        vertical-align: top;\n",
       "    }\n",
       "\n",
       "    .dataframe thead th {\n",
       "        text-align: right;\n",
       "    }\n",
       "</style>\n",
       "<table border=\"1\" class=\"dataframe\">\n",
       "  <thead>\n",
       "    <tr style=\"text-align: right;\">\n",
       "      <th></th>\n",
       "      <th>created_utc</th>\n",
       "      <th>body</th>\n",
       "      <th>subreddit</th>\n",
       "    </tr>\n",
       "  </thead>\n",
       "  <tbody>\n",
       "    <tr>\n",
       "      <td>25</td>\n",
       "      <td>1587271733</td>\n",
       "      <td>I think the butter pickels cools the heat from...</td>\n",
       "      <td>food</td>\n",
       "    </tr>\n",
       "    <tr>\n",
       "      <td>38</td>\n",
       "      <td>1587271400</td>\n",
       "      <td>[removed]</td>\n",
       "      <td>food</td>\n",
       "    </tr>\n",
       "    <tr>\n",
       "      <td>43</td>\n",
       "      <td>1587271322</td>\n",
       "      <td>I am confused.</td>\n",
       "      <td>food</td>\n",
       "    </tr>\n",
       "    <tr>\n",
       "      <td>50</td>\n",
       "      <td>1587271239</td>\n",
       "      <td>[removed]</td>\n",
       "      <td>food</td>\n",
       "    </tr>\n",
       "    <tr>\n",
       "      <td>54</td>\n",
       "      <td>1587271203</td>\n",
       "      <td>[removed]</td>\n",
       "      <td>food</td>\n",
       "    </tr>\n",
       "    <tr>\n",
       "      <td>...</td>\n",
       "      <td>...</td>\n",
       "      <td>...</td>\n",
       "      <td>...</td>\n",
       "    </tr>\n",
       "    <tr>\n",
       "      <td>446</td>\n",
       "      <td>1586993421</td>\n",
       "      <td>[removed]</td>\n",
       "      <td>food</td>\n",
       "    </tr>\n",
       "    <tr>\n",
       "      <td>459</td>\n",
       "      <td>1586993073</td>\n",
       "      <td>Gorgeous!</td>\n",
       "      <td>food</td>\n",
       "    </tr>\n",
       "    <tr>\n",
       "      <td>465</td>\n",
       "      <td>1586992967</td>\n",
       "      <td>Thanks!</td>\n",
       "      <td>food</td>\n",
       "    </tr>\n",
       "    <tr>\n",
       "      <td>487</td>\n",
       "      <td>1586992303</td>\n",
       "      <td>[removed]</td>\n",
       "      <td>food</td>\n",
       "    </tr>\n",
       "    <tr>\n",
       "      <td>492</td>\n",
       "      <td>1586992205</td>\n",
       "      <td>[deleted]</td>\n",
       "      <td>food</td>\n",
       "    </tr>\n",
       "  </tbody>\n",
       "</table>\n",
       "<p>1383 rows × 3 columns</p>\n",
       "</div>"
      ],
      "text/plain": [
       "     created_utc                                               body subreddit\n",
       "25    1587271733  I think the butter pickels cools the heat from...      food\n",
       "38    1587271400                                          [removed]      food\n",
       "43    1587271322                                     I am confused.      food\n",
       "50    1587271239                                          [removed]      food\n",
       "54    1587271203                                          [removed]      food\n",
       "..           ...                                                ...       ...\n",
       "446   1586993421                                          [removed]      food\n",
       "459   1586993073                                          Gorgeous!      food\n",
       "465   1586992967                                            Thanks!      food\n",
       "487   1586992303                                          [removed]      food\n",
       "492   1586992205                                          [deleted]      food\n",
       "\n",
       "[1383 rows x 3 columns]"
      ]
     },
     "execution_count": 10,
     "metadata": {},
     "output_type": "execute_result"
    }
   ],
   "source": [
    "df_food[df_food['body'].duplicated() == True] #checking for duplicates"
   ]
  },
  {
   "cell_type": "markdown",
   "metadata": {},
   "source": [
    "## Pulling subreddit for data on \"Exercise\""
   ]
  },
  {
   "cell_type": "code",
   "execution_count": 11,
   "metadata": {},
   "outputs": [],
   "source": [
    "df_exer = get_subs('exercise', 25)\n",
    "#this code iterates through the 'exercise' subreddit 25 times at 500 hits each(Max iter for Reddit)"
   ]
  },
  {
   "cell_type": "code",
   "execution_count": 12,
   "metadata": {},
   "outputs": [
    {
     "data": {
      "text/plain": [
       "(12500, 3)"
      ]
     },
     "execution_count": 12,
     "metadata": {},
     "output_type": "execute_result"
    }
   ],
   "source": [
    "df_exer.shape\n",
    "# checking for the amount of data pulled\n",
    "#rows, columns"
   ]
  },
  {
   "cell_type": "code",
   "execution_count": 13,
   "metadata": {},
   "outputs": [
    {
     "data": {
      "text/html": [
       "<div>\n",
       "<style scoped>\n",
       "    .dataframe tbody tr th:only-of-type {\n",
       "        vertical-align: middle;\n",
       "    }\n",
       "\n",
       "    .dataframe tbody tr th {\n",
       "        vertical-align: top;\n",
       "    }\n",
       "\n",
       "    .dataframe thead th {\n",
       "        text-align: right;\n",
       "    }\n",
       "</style>\n",
       "<table border=\"1\" class=\"dataframe\">\n",
       "  <thead>\n",
       "    <tr style=\"text-align: right;\">\n",
       "      <th></th>\n",
       "      <th>created_utc</th>\n",
       "      <th>body</th>\n",
       "      <th>subreddit</th>\n",
       "    </tr>\n",
       "  </thead>\n",
       "  <tbody>\n",
       "    <tr>\n",
       "      <td>89</td>\n",
       "      <td>1587189355</td>\n",
       "      <td>Your account is less than a week old. Your sub...</td>\n",
       "      <td>Exercise</td>\n",
       "    </tr>\n",
       "    <tr>\n",
       "      <td>112</td>\n",
       "      <td>1587168106</td>\n",
       "      <td>Your account is less than a week old. Your sub...</td>\n",
       "      <td>Exercise</td>\n",
       "    </tr>\n",
       "    <tr>\n",
       "      <td>163</td>\n",
       "      <td>1587123330</td>\n",
       "      <td>Your account is less than a week old. Your sub...</td>\n",
       "      <td>Exercise</td>\n",
       "    </tr>\n",
       "    <tr>\n",
       "      <td>164</td>\n",
       "      <td>1587121388</td>\n",
       "      <td>Your account is less than a week old. Your sub...</td>\n",
       "      <td>Exercise</td>\n",
       "    </tr>\n",
       "    <tr>\n",
       "      <td>193</td>\n",
       "      <td>1587082349</td>\n",
       "      <td>Your account is less than a week old. Your sub...</td>\n",
       "      <td>Exercise</td>\n",
       "    </tr>\n",
       "    <tr>\n",
       "      <td>...</td>\n",
       "      <td>...</td>\n",
       "      <td>...</td>\n",
       "      <td>...</td>\n",
       "    </tr>\n",
       "    <tr>\n",
       "      <td>461</td>\n",
       "      <td>1568060596</td>\n",
       "      <td>Go to the doctor.</td>\n",
       "      <td>Exercise</td>\n",
       "    </tr>\n",
       "    <tr>\n",
       "      <td>478</td>\n",
       "      <td>1568011848</td>\n",
       "      <td>Thanks !</td>\n",
       "      <td>Exercise</td>\n",
       "    </tr>\n",
       "    <tr>\n",
       "      <td>487</td>\n",
       "      <td>1568000606</td>\n",
       "      <td>Thank you!</td>\n",
       "      <td>Exercise</td>\n",
       "    </tr>\n",
       "    <tr>\n",
       "      <td>490</td>\n",
       "      <td>1567996571</td>\n",
       "      <td>Yessir</td>\n",
       "      <td>Exercise</td>\n",
       "    </tr>\n",
       "    <tr>\n",
       "      <td>497</td>\n",
       "      <td>1567987974</td>\n",
       "      <td>Thanks bro</td>\n",
       "      <td>Exercise</td>\n",
       "    </tr>\n",
       "  </tbody>\n",
       "</table>\n",
       "<p>679 rows × 3 columns</p>\n",
       "</div>"
      ],
      "text/plain": [
       "     created_utc                                               body subreddit\n",
       "89    1587189355  Your account is less than a week old. Your sub...  Exercise\n",
       "112   1587168106  Your account is less than a week old. Your sub...  Exercise\n",
       "163   1587123330  Your account is less than a week old. Your sub...  Exercise\n",
       "164   1587121388  Your account is less than a week old. Your sub...  Exercise\n",
       "193   1587082349  Your account is less than a week old. Your sub...  Exercise\n",
       "..           ...                                                ...       ...\n",
       "461   1568060596                                  Go to the doctor.  Exercise\n",
       "478   1568011848                                           Thanks !  Exercise\n",
       "487   1568000606                                         Thank you!  Exercise\n",
       "490   1567996571                                             Yessir  Exercise\n",
       "497   1567987974                                         Thanks bro  Exercise\n",
       "\n",
       "[679 rows x 3 columns]"
      ]
     },
     "execution_count": 13,
     "metadata": {},
     "output_type": "execute_result"
    }
   ],
   "source": [
    "df_exer[df_exer['body'].duplicated() == True]\n",
    "#checking for duplicates in the body"
   ]
  },
  {
   "cell_type": "markdown",
   "metadata": {},
   "source": [
    "## Combine data and turn into DataFrame"
   ]
  },
  {
   "cell_type": "code",
   "execution_count": 14,
   "metadata": {},
   "outputs": [],
   "source": [
    "df_food_exer = pd.concat([df_food, df_exer], axis=0)\n",
    "#concatinating both dataframes: df_food, df_exer"
   ]
  },
  {
   "cell_type": "code",
   "execution_count": 15,
   "metadata": {},
   "outputs": [
    {
     "data": {
      "text/html": [
       "<div>\n",
       "<style scoped>\n",
       "    .dataframe tbody tr th:only-of-type {\n",
       "        vertical-align: middle;\n",
       "    }\n",
       "\n",
       "    .dataframe tbody tr th {\n",
       "        vertical-align: top;\n",
       "    }\n",
       "\n",
       "    .dataframe thead th {\n",
       "        text-align: right;\n",
       "    }\n",
       "</style>\n",
       "<table border=\"1\" class=\"dataframe\">\n",
       "  <thead>\n",
       "    <tr style=\"text-align: right;\">\n",
       "      <th></th>\n",
       "      <th>created_utc</th>\n",
       "      <th>body</th>\n",
       "      <th>subreddit</th>\n",
       "    </tr>\n",
       "  </thead>\n",
       "  <tbody>\n",
       "    <tr>\n",
       "      <td>0</td>\n",
       "      <td>1587272734</td>\n",
       "      <td>They look delicious but where are the dinosaur...</td>\n",
       "      <td>food</td>\n",
       "    </tr>\n",
       "    <tr>\n",
       "      <td>1</td>\n",
       "      <td>1587272607</td>\n",
       "      <td>It looks like a pair of lungs</td>\n",
       "      <td>food</td>\n",
       "    </tr>\n",
       "    <tr>\n",
       "      <td>2</td>\n",
       "      <td>1587272592</td>\n",
       "      <td>Looks great, i always request this from my mom...</td>\n",
       "      <td>food</td>\n",
       "    </tr>\n",
       "    <tr>\n",
       "      <td>3</td>\n",
       "      <td>1587272569</td>\n",
       "      <td>I'm hungry, but that's almost too beautiful to...</td>\n",
       "      <td>food</td>\n",
       "    </tr>\n",
       "    <tr>\n",
       "      <td>4</td>\n",
       "      <td>1587272555</td>\n",
       "      <td>Looks\\nGood how it taste ?</td>\n",
       "      <td>food</td>\n",
       "    </tr>\n",
       "  </tbody>\n",
       "</table>\n",
       "</div>"
      ],
      "text/plain": [
       "   created_utc                                               body subreddit\n",
       "0   1587272734  They look delicious but where are the dinosaur...      food\n",
       "1   1587272607                      It looks like a pair of lungs      food\n",
       "2   1587272592  Looks great, i always request this from my mom...      food\n",
       "3   1587272569  I'm hungry, but that's almost too beautiful to...      food\n",
       "4   1587272555                         Looks\\nGood how it taste ?      food"
      ]
     },
     "execution_count": 15,
     "metadata": {},
     "output_type": "execute_result"
    }
   ],
   "source": [
    "df_food_exer.head()\n",
    "#verifying that both columns concatinated properly"
   ]
  },
  {
   "cell_type": "code",
   "execution_count": 16,
   "metadata": {},
   "outputs": [
    {
     "data": {
      "text/html": [
       "<div>\n",
       "<style scoped>\n",
       "    .dataframe tbody tr th:only-of-type {\n",
       "        vertical-align: middle;\n",
       "    }\n",
       "\n",
       "    .dataframe tbody tr th {\n",
       "        vertical-align: top;\n",
       "    }\n",
       "\n",
       "    .dataframe thead th {\n",
       "        text-align: right;\n",
       "    }\n",
       "</style>\n",
       "<table border=\"1\" class=\"dataframe\">\n",
       "  <thead>\n",
       "    <tr style=\"text-align: right;\">\n",
       "      <th></th>\n",
       "      <th>created_utc</th>\n",
       "      <th>body</th>\n",
       "      <th>subreddit</th>\n",
       "    </tr>\n",
       "  </thead>\n",
       "  <tbody>\n",
       "    <tr>\n",
       "      <td>495</td>\n",
       "      <td>1567990841</td>\n",
       "      <td>I’m glad, keep grinding!!</td>\n",
       "      <td>Exercise</td>\n",
       "    </tr>\n",
       "    <tr>\n",
       "      <td>496</td>\n",
       "      <td>1567989897</td>\n",
       "      <td>I just do both and if anyone asks I say I’m le...</td>\n",
       "      <td>Exercise</td>\n",
       "    </tr>\n",
       "    <tr>\n",
       "      <td>497</td>\n",
       "      <td>1567987974</td>\n",
       "      <td>Thanks bro</td>\n",
       "      <td>Exercise</td>\n",
       "    </tr>\n",
       "    <tr>\n",
       "      <td>498</td>\n",
       "      <td>1567987846</td>\n",
       "      <td>Exactly my man. Way too many people give up be...</td>\n",
       "      <td>Exercise</td>\n",
       "    </tr>\n",
       "    <tr>\n",
       "      <td>499</td>\n",
       "      <td>1567987584</td>\n",
       "      <td>No offence taken my friend</td>\n",
       "      <td>Exercise</td>\n",
       "    </tr>\n",
       "  </tbody>\n",
       "</table>\n",
       "</div>"
      ],
      "text/plain": [
       "     created_utc                                               body subreddit\n",
       "495   1567990841                          I’m glad, keep grinding!!  Exercise\n",
       "496   1567989897  I just do both and if anyone asks I say I’m le...  Exercise\n",
       "497   1567987974                                         Thanks bro  Exercise\n",
       "498   1567987846  Exactly my man. Way too many people give up be...  Exercise\n",
       "499   1567987584                         No offence taken my friend  Exercise"
      ]
     },
     "execution_count": 16,
     "metadata": {},
     "output_type": "execute_result"
    }
   ],
   "source": [
    "df_food_exer.tail()\n",
    "#verifying that both columns concatinated properly"
   ]
  },
  {
   "cell_type": "code",
   "execution_count": 17,
   "metadata": {},
   "outputs": [],
   "source": [
    "df_food_exer.to_csv('food_and_exer-comments.csv')\n",
    "#exported into a .csv file"
   ]
  },
  {
   "cell_type": "code",
   "execution_count": null,
   "metadata": {},
   "outputs": [],
   "source": []
  }
 ],
 "metadata": {
  "kernelspec": {
   "display_name": "Python 3",
   "language": "python",
   "name": "python3"
  },
  "language_info": {
   "codemirror_mode": {
    "name": "ipython",
    "version": 3
   },
   "file_extension": ".py",
   "mimetype": "text/x-python",
   "name": "python",
   "nbconvert_exporter": "python",
   "pygments_lexer": "ipython3",
   "version": "3.7.6"
  }
 },
 "nbformat": 4,
 "nbformat_minor": 4
}
